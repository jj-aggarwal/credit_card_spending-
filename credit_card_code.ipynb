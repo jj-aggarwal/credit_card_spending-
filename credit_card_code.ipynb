{
 "cells": [
  {
   "cell_type": "code",
   "execution_count": 1,
   "metadata": {},
   "outputs": [],
   "source": [
    "import numpy as np\n",
    "import pandas as pd\n",
    "import seaborn as sns\n",
    "import matplotlib.pyplot as plt\n",
    "%matplotlib inline\n",
    "import statsmodels.formula.api as sn\n",
    "import scipy.stats as stats\n",
    "from statsmodels.stats.outliers_influence import variance_inflation_factor\n",
    "from patsy import dmatrices"
   ]
  },
  {
   "cell_type": "code",
   "execution_count": 2,
   "metadata": {},
   "outputs": [
    {
     "name": "stdout",
     "output_type": "stream",
     "text": [
      "E:\\MLAI classes\\projects\\project 1\n"
     ]
    }
   ],
   "source": [
    "%cd \"E:\\MLAI classes\\projects\\project 1\""
   ]
  },
  {
   "cell_type": "code",
   "execution_count": 3,
   "metadata": {},
   "outputs": [
    {
     "name": "stderr",
     "output_type": "stream",
     "text": [
      "C:\\Users\\tholk\\anaconda3\\lib\\site-packages\\IPython\\core\\interactiveshell.py:3063: DtypeWarning: Columns (2,19,21,49,85,86,100) have mixed types. Specify dtype option on import or set low_memory=False.\n",
      "  interactivity=interactivity, compiler=compiler, result=result)\n"
     ]
    }
   ],
   "source": [
    "data=pd.read_csv(\"Database.csv\")"
   ]
  },
  {
   "cell_type": "code",
   "execution_count": 4,
   "metadata": {},
   "outputs": [],
   "source": [
    "import pandas_profiling"
   ]
  },
  {
   "cell_type": "code",
   "execution_count": 5,
   "metadata": {
    "scrolled": true
   },
   "outputs": [
    {
     "data": {
      "application/vnd.jupyter.widget-view+json": {
       "model_id": "7d0e28e70b0a4384b74be611148cb860",
       "version_major": 2,
       "version_minor": 0
      },
      "text/plain": [
       "HBox(children=(FloatProgress(value=0.0, description='variables', max=130.0, style=ProgressStyle(description_wi…"
      ]
     },
     "metadata": {},
     "output_type": "display_data"
    },
    {
     "name": "stdout",
     "output_type": "stream",
     "text": [
      "\n"
     ]
    },
    {
     "data": {
      "application/vnd.jupyter.widget-view+json": {
       "model_id": "6f964de92e6b49df8a8cef94f5b7b387",
       "version_major": 2,
       "version_minor": 0
      },
      "text/plain": [
       "HBox(children=(FloatProgress(value=0.0, description='correlations', max=6.0, style=ProgressStyle(description_w…"
      ]
     },
     "metadata": {},
     "output_type": "display_data"
    },
    {
     "name": "stdout",
     "output_type": "stream",
     "text": [
      "\n"
     ]
    },
    {
     "data": {
      "application/vnd.jupyter.widget-view+json": {
       "model_id": "aa4dd1b98c6f4f90b8052f23745a27a9",
       "version_major": 2,
       "version_minor": 0
      },
      "text/plain": [
       "HBox(children=(FloatProgress(value=0.0, description='interactions [continuous]', max=2916.0, style=ProgressSty…"
      ]
     },
     "metadata": {},
     "output_type": "display_data"
    },
    {
     "name": "stdout",
     "output_type": "stream",
     "text": [
      "\n"
     ]
    },
    {
     "data": {
      "application/vnd.jupyter.widget-view+json": {
       "model_id": "dc6a97786fd24df9bc29efd5c7928aba",
       "version_major": 2,
       "version_minor": 0
      },
      "text/plain": [
       "HBox(children=(FloatProgress(value=0.0, description='table', max=1.0, style=ProgressStyle(description_width='i…"
      ]
     },
     "metadata": {},
     "output_type": "display_data"
    },
    {
     "name": "stdout",
     "output_type": "stream",
     "text": [
      "\n"
     ]
    },
    {
     "data": {
      "application/vnd.jupyter.widget-view+json": {
       "model_id": "40918bdc65c64f1b8a785837ef092601",
       "version_major": 2,
       "version_minor": 0
      },
      "text/plain": [
       "HBox(children=(FloatProgress(value=0.0, description='missing', max=2.0, style=ProgressStyle(description_width=…"
      ]
     },
     "metadata": {},
     "output_type": "display_data"
    },
    {
     "name": "stdout",
     "output_type": "stream",
     "text": [
      "\n"
     ]
    },
    {
     "data": {
      "application/vnd.jupyter.widget-view+json": {
       "model_id": "3b4a99dd549e4c72abe7edaa1b695609",
       "version_major": 2,
       "version_minor": 0
      },
      "text/plain": [
       "HBox(children=(FloatProgress(value=0.0, description='warnings', max=3.0, style=ProgressStyle(description_width…"
      ]
     },
     "metadata": {},
     "output_type": "display_data"
    },
    {
     "name": "stdout",
     "output_type": "stream",
     "text": [
      "\n"
     ]
    },
    {
     "data": {
      "application/vnd.jupyter.widget-view+json": {
       "model_id": "6b8bf3928275472e9f1de95adedfbb35",
       "version_major": 2,
       "version_minor": 0
      },
      "text/plain": [
       "HBox(children=(FloatProgress(value=0.0, description='package', max=1.0, style=ProgressStyle(description_width=…"
      ]
     },
     "metadata": {},
     "output_type": "display_data"
    },
    {
     "name": "stdout",
     "output_type": "stream",
     "text": [
      "\n"
     ]
    },
    {
     "data": {
      "application/vnd.jupyter.widget-view+json": {
       "model_id": "a20ee65c5fbe46df967c928b105c6d30",
       "version_major": 2,
       "version_minor": 0
      },
      "text/plain": [
       "HBox(children=(FloatProgress(value=0.0, description='build report structure', max=1.0, style=ProgressStyle(des…"
      ]
     },
     "metadata": {},
     "output_type": "display_data"
    },
    {
     "name": "stdout",
     "output_type": "stream",
     "text": [
      "\n"
     ]
    },
    {
     "data": {
      "text/plain": []
     },
     "execution_count": 5,
     "metadata": {},
     "output_type": "execute_result"
    }
   ],
   "source": [
    "pandas_profiling.ProfileReport(data)\n"
   ]
  },
  {
   "cell_type": "code",
   "execution_count": 6,
   "metadata": {
    "scrolled": true
   },
   "outputs": [
    {
     "name": "stdout",
     "output_type": "stream",
     "text": [
      "<class 'pandas.core.frame.DataFrame'>\n",
      "RangeIndex: 5000 entries, 0 to 4999\n",
      "Columns: 130 entries, custid to response_03\n",
      "dtypes: float64(113), object(17)\n",
      "memory usage: 5.0+ MB\n"
     ]
    }
   ],
   "source": [
    "data.info()"
   ]
  },
  {
   "cell_type": "code",
   "execution_count": 7,
   "metadata": {},
   "outputs": [
    {
     "name": "stdout",
     "output_type": "stream",
     "text": [
      "['region', 'gender', 'age', 'agecat', 'ed', 'edcat', 'jobcat', 'union', 'employ', 'empcat', 'retire', 'income', 'lninc', 'inccat', 'debtinc', 'creddebt', 'othdebt', 'default', 'jobsat', 'marital', 'spoused', 'spousedcat', 'reside', 'pets', 'pets_cats', 'pets_dogs', 'pets_birds', 'pets_reptiles', 'pets_small', 'pets_saltfish', 'pets_freshfish', 'homeown', 'hometype', 'address', 'addresscat', 'cars', 'carown', 'cartype', 'carvalue', 'carcatvalue', 'carbought', 'carbuy', 'commute', 'commutecat', 'commutecar', 'commutemotorcycle', 'commutecarpool', 'commutebus', 'commuterail', 'commutepublic', 'commutebike', 'commutewalk', 'commutenonmotor', 'telecommute', 'reason', 'polview', 'polparty', 'polcontrib', 'vote', 'card', 'cardtype', 'cardbenefit', 'cardfee', 'cardtenure', 'cardtenurecat', 'card2', 'card2type', 'card2benefit', 'card2fee', 'card2tenure', 'card2tenurecat', 'cardspent', 'card2spent', 'active', 'bfast', 'tenure', 'churn', 'longmon', 'lnlongmon', 'tollfree', 'tollmon', 'tollten', 'equip', 'equipmon', 'equipten', 'callcard', 'cardmon', 'wireless', 'wiremon', 'wireten', 'multline', 'voice', 'pager', 'internet', 'callid', 'callwait', 'forward', 'confer', 'ebill', 'owntv', 'hourstv', 'ownvcr', 'owndvd', 'owncd', 'ownpda', 'ownpc', 'ownipod', 'owngame', 'ownfax', 'news', 'response_01', 'response_02', 'response_03']\n"
     ]
    }
   ],
   "source": [
    "#seperate caterogical and numeric\n",
    "numeric_var_names=[key for key in dict(data.dtypes) if dict(data.dtypes)[key] in ['float64','int64','float32','int32']]\n",
    "cat_var_names=[key for key in dict(data.dtypes) if dict(data.dtypes)[key] in ['object']]\n",
    "print(numeric_var_names)\n"
   ]
  },
  {
   "cell_type": "code",
   "execution_count": 8,
   "metadata": {},
   "outputs": [
    {
     "name": "stdout",
     "output_type": "stream",
     "text": [
      "['custid', 'townsize', 'birthmonth', 'lncreddebt', 'lnothdebt', 'commutetime', 'longten', 'lnlongten', 'lntollmon', 'lntollten', 'lnequipmon', 'lnequipten', 'lncardmon', 'cardten', 'lncardten', 'lnwiremon', 'lnwireten']\n"
     ]
    }
   ],
   "source": [
    "print(cat_var_names)"
   ]
  },
  {
   "cell_type": "code",
   "execution_count": 9,
   "metadata": {},
   "outputs": [
    {
     "data": {
      "text/plain": [
       "5000"
      ]
     },
     "execution_count": 9,
     "metadata": {},
     "output_type": "execute_result"
    }
   ],
   "source": [
    "len(data)"
   ]
  },
  {
   "cell_type": "code",
   "execution_count": 10,
   "metadata": {
    "scrolled": true
   },
   "outputs": [
    {
     "data": {
      "text/html": [
       "<div>\n",
       "<style scoped>\n",
       "    .dataframe tbody tr th:only-of-type {\n",
       "        vertical-align: middle;\n",
       "    }\n",
       "\n",
       "    .dataframe tbody tr th {\n",
       "        vertical-align: top;\n",
       "    }\n",
       "\n",
       "    .dataframe thead th {\n",
       "        text-align: right;\n",
       "    }\n",
       "</style>\n",
       "<table border=\"1\" class=\"dataframe\">\n",
       "  <thead>\n",
       "    <tr style=\"text-align: right;\">\n",
       "      <th></th>\n",
       "      <th>region</th>\n",
       "      <th>gender</th>\n",
       "      <th>age</th>\n",
       "      <th>agecat</th>\n",
       "      <th>ed</th>\n",
       "      <th>edcat</th>\n",
       "      <th>jobcat</th>\n",
       "      <th>union</th>\n",
       "      <th>employ</th>\n",
       "      <th>empcat</th>\n",
       "      <th>...</th>\n",
       "      <th>owncd</th>\n",
       "      <th>ownpda</th>\n",
       "      <th>ownpc</th>\n",
       "      <th>ownipod</th>\n",
       "      <th>owngame</th>\n",
       "      <th>ownfax</th>\n",
       "      <th>news</th>\n",
       "      <th>response_01</th>\n",
       "      <th>response_02</th>\n",
       "      <th>response_03</th>\n",
       "    </tr>\n",
       "  </thead>\n",
       "  <tbody>\n",
       "    <tr>\n",
       "      <th>0</th>\n",
       "      <td>1.0</td>\n",
       "      <td>1.0</td>\n",
       "      <td>20.0</td>\n",
       "      <td>2.0</td>\n",
       "      <td>15.0</td>\n",
       "      <td>3.0</td>\n",
       "      <td>1.0</td>\n",
       "      <td>1.0</td>\n",
       "      <td>0.0</td>\n",
       "      <td>1.0</td>\n",
       "      <td>...</td>\n",
       "      <td>0.0</td>\n",
       "      <td>0.0</td>\n",
       "      <td>0.0</td>\n",
       "      <td>1.0</td>\n",
       "      <td>1.0</td>\n",
       "      <td>0.0</td>\n",
       "      <td>0.0</td>\n",
       "      <td>0.0</td>\n",
       "      <td>1.0</td>\n",
       "      <td>0.0</td>\n",
       "    </tr>\n",
       "    <tr>\n",
       "      <th>1</th>\n",
       "      <td>5.0</td>\n",
       "      <td>0.0</td>\n",
       "      <td>22.0</td>\n",
       "      <td>2.0</td>\n",
       "      <td>17.0</td>\n",
       "      <td>4.0</td>\n",
       "      <td>2.0</td>\n",
       "      <td>0.0</td>\n",
       "      <td>0.0</td>\n",
       "      <td>1.0</td>\n",
       "      <td>...</td>\n",
       "      <td>1.0</td>\n",
       "      <td>1.0</td>\n",
       "      <td>1.0</td>\n",
       "      <td>1.0</td>\n",
       "      <td>1.0</td>\n",
       "      <td>1.0</td>\n",
       "      <td>1.0</td>\n",
       "      <td>0.0</td>\n",
       "      <td>0.0</td>\n",
       "      <td>0.0</td>\n",
       "    </tr>\n",
       "  </tbody>\n",
       "</table>\n",
       "<p>2 rows × 113 columns</p>\n",
       "</div>"
      ],
      "text/plain": [
       "   region  gender   age  agecat    ed  edcat  jobcat  union  employ  empcat  \\\n",
       "0     1.0     1.0  20.0     2.0  15.0    3.0     1.0    1.0     0.0     1.0   \n",
       "1     5.0     0.0  22.0     2.0  17.0    4.0     2.0    0.0     0.0     1.0   \n",
       "\n",
       "   ...  owncd  ownpda  ownpc  ownipod  owngame  ownfax  news  response_01  \\\n",
       "0  ...    0.0     0.0    0.0      1.0      1.0     0.0   0.0          0.0   \n",
       "1  ...    1.0     1.0    1.0      1.0      1.0     1.0   1.0          0.0   \n",
       "\n",
       "   response_02  response_03  \n",
       "0          1.0          0.0  \n",
       "1          0.0          0.0  \n",
       "\n",
       "[2 rows x 113 columns]"
      ]
     },
     "execution_count": 10,
     "metadata": {},
     "output_type": "execute_result"
    }
   ],
   "source": [
    "data= data[numeric_var_names]\n",
    "data.head(2)"
   ]
  },
  {
   "cell_type": "code",
   "execution_count": 11,
   "metadata": {},
   "outputs": [
    {
     "data": {
      "text/plain": [
       "0    113\n",
       "dtype: int64"
      ]
     },
     "execution_count": 11,
     "metadata": {},
     "output_type": "execute_result"
    }
   ],
   "source": [
    "data.isnull().sum().value_counts()"
   ]
  },
  {
   "cell_type": "code",
   "execution_count": 12,
   "metadata": {},
   "outputs": [],
   "source": [
    "#remove missing values\n",
    "counts=len(data)*0.25\n",
    "data_new=data.dropna(thresh=counts, axis=1)"
   ]
  },
  {
   "cell_type": "code",
   "execution_count": 13,
   "metadata": {},
   "outputs": [
    {
     "data": {
      "text/html": [
       "<div>\n",
       "<style scoped>\n",
       "    .dataframe tbody tr th:only-of-type {\n",
       "        vertical-align: middle;\n",
       "    }\n",
       "\n",
       "    .dataframe tbody tr th {\n",
       "        vertical-align: top;\n",
       "    }\n",
       "\n",
       "    .dataframe thead th {\n",
       "        text-align: right;\n",
       "    }\n",
       "</style>\n",
       "<table border=\"1\" class=\"dataframe\">\n",
       "  <thead>\n",
       "    <tr style=\"text-align: right;\">\n",
       "      <th></th>\n",
       "      <th>region</th>\n",
       "      <th>gender</th>\n",
       "      <th>age</th>\n",
       "      <th>agecat</th>\n",
       "      <th>ed</th>\n",
       "      <th>edcat</th>\n",
       "      <th>jobcat</th>\n",
       "      <th>union</th>\n",
       "      <th>employ</th>\n",
       "      <th>empcat</th>\n",
       "      <th>...</th>\n",
       "      <th>owncd</th>\n",
       "      <th>ownpda</th>\n",
       "      <th>ownpc</th>\n",
       "      <th>ownipod</th>\n",
       "      <th>owngame</th>\n",
       "      <th>ownfax</th>\n",
       "      <th>news</th>\n",
       "      <th>response_01</th>\n",
       "      <th>response_02</th>\n",
       "      <th>response_03</th>\n",
       "    </tr>\n",
       "  </thead>\n",
       "  <tbody>\n",
       "    <tr>\n",
       "      <th>0</th>\n",
       "      <td>1.0</td>\n",
       "      <td>1.0</td>\n",
       "      <td>20.0</td>\n",
       "      <td>2.0</td>\n",
       "      <td>15.0</td>\n",
       "      <td>3.0</td>\n",
       "      <td>1.0</td>\n",
       "      <td>1.0</td>\n",
       "      <td>0.0</td>\n",
       "      <td>1.0</td>\n",
       "      <td>...</td>\n",
       "      <td>0.0</td>\n",
       "      <td>0.0</td>\n",
       "      <td>0.0</td>\n",
       "      <td>1.0</td>\n",
       "      <td>1.0</td>\n",
       "      <td>0.0</td>\n",
       "      <td>0.0</td>\n",
       "      <td>0.0</td>\n",
       "      <td>1.0</td>\n",
       "      <td>0.0</td>\n",
       "    </tr>\n",
       "    <tr>\n",
       "      <th>1</th>\n",
       "      <td>5.0</td>\n",
       "      <td>0.0</td>\n",
       "      <td>22.0</td>\n",
       "      <td>2.0</td>\n",
       "      <td>17.0</td>\n",
       "      <td>4.0</td>\n",
       "      <td>2.0</td>\n",
       "      <td>0.0</td>\n",
       "      <td>0.0</td>\n",
       "      <td>1.0</td>\n",
       "      <td>...</td>\n",
       "      <td>1.0</td>\n",
       "      <td>1.0</td>\n",
       "      <td>1.0</td>\n",
       "      <td>1.0</td>\n",
       "      <td>1.0</td>\n",
       "      <td>1.0</td>\n",
       "      <td>1.0</td>\n",
       "      <td>0.0</td>\n",
       "      <td>0.0</td>\n",
       "      <td>0.0</td>\n",
       "    </tr>\n",
       "    <tr>\n",
       "      <th>2</th>\n",
       "      <td>3.0</td>\n",
       "      <td>1.0</td>\n",
       "      <td>67.0</td>\n",
       "      <td>6.0</td>\n",
       "      <td>14.0</td>\n",
       "      <td>2.0</td>\n",
       "      <td>2.0</td>\n",
       "      <td>0.0</td>\n",
       "      <td>16.0</td>\n",
       "      <td>5.0</td>\n",
       "      <td>...</td>\n",
       "      <td>1.0</td>\n",
       "      <td>0.0</td>\n",
       "      <td>0.0</td>\n",
       "      <td>0.0</td>\n",
       "      <td>0.0</td>\n",
       "      <td>0.0</td>\n",
       "      <td>1.0</td>\n",
       "      <td>0.0</td>\n",
       "      <td>0.0</td>\n",
       "      <td>0.0</td>\n",
       "    </tr>\n",
       "    <tr>\n",
       "      <th>3</th>\n",
       "      <td>4.0</td>\n",
       "      <td>0.0</td>\n",
       "      <td>23.0</td>\n",
       "      <td>2.0</td>\n",
       "      <td>16.0</td>\n",
       "      <td>3.0</td>\n",
       "      <td>2.0</td>\n",
       "      <td>0.0</td>\n",
       "      <td>0.0</td>\n",
       "      <td>1.0</td>\n",
       "      <td>...</td>\n",
       "      <td>1.0</td>\n",
       "      <td>0.0</td>\n",
       "      <td>1.0</td>\n",
       "      <td>1.0</td>\n",
       "      <td>1.0</td>\n",
       "      <td>0.0</td>\n",
       "      <td>1.0</td>\n",
       "      <td>1.0</td>\n",
       "      <td>0.0</td>\n",
       "      <td>0.0</td>\n",
       "    </tr>\n",
       "    <tr>\n",
       "      <th>4</th>\n",
       "      <td>2.0</td>\n",
       "      <td>0.0</td>\n",
       "      <td>26.0</td>\n",
       "      <td>3.0</td>\n",
       "      <td>16.0</td>\n",
       "      <td>3.0</td>\n",
       "      <td>2.0</td>\n",
       "      <td>0.0</td>\n",
       "      <td>1.0</td>\n",
       "      <td>1.0</td>\n",
       "      <td>...</td>\n",
       "      <td>1.0</td>\n",
       "      <td>0.0</td>\n",
       "      <td>1.0</td>\n",
       "      <td>0.0</td>\n",
       "      <td>1.0</td>\n",
       "      <td>0.0</td>\n",
       "      <td>0.0</td>\n",
       "      <td>0.0</td>\n",
       "      <td>1.0</td>\n",
       "      <td>0.0</td>\n",
       "    </tr>\n",
       "    <tr>\n",
       "      <th>...</th>\n",
       "      <td>...</td>\n",
       "      <td>...</td>\n",
       "      <td>...</td>\n",
       "      <td>...</td>\n",
       "      <td>...</td>\n",
       "      <td>...</td>\n",
       "      <td>...</td>\n",
       "      <td>...</td>\n",
       "      <td>...</td>\n",
       "      <td>...</td>\n",
       "      <td>...</td>\n",
       "      <td>...</td>\n",
       "      <td>...</td>\n",
       "      <td>...</td>\n",
       "      <td>...</td>\n",
       "      <td>...</td>\n",
       "      <td>...</td>\n",
       "      <td>...</td>\n",
       "      <td>...</td>\n",
       "      <td>...</td>\n",
       "      <td>...</td>\n",
       "    </tr>\n",
       "    <tr>\n",
       "      <th>4995</th>\n",
       "      <td>2.0</td>\n",
       "      <td>0.0</td>\n",
       "      <td>68.0</td>\n",
       "      <td>6.0</td>\n",
       "      <td>10.0</td>\n",
       "      <td>1.0</td>\n",
       "      <td>1.0</td>\n",
       "      <td>0.0</td>\n",
       "      <td>24.0</td>\n",
       "      <td>5.0</td>\n",
       "      <td>...</td>\n",
       "      <td>1.0</td>\n",
       "      <td>0.0</td>\n",
       "      <td>0.0</td>\n",
       "      <td>0.0</td>\n",
       "      <td>0.0</td>\n",
       "      <td>0.0</td>\n",
       "      <td>1.0</td>\n",
       "      <td>0.0</td>\n",
       "      <td>0.0</td>\n",
       "      <td>0.0</td>\n",
       "    </tr>\n",
       "    <tr>\n",
       "      <th>4996</th>\n",
       "      <td>3.0</td>\n",
       "      <td>0.0</td>\n",
       "      <td>51.0</td>\n",
       "      <td>5.0</td>\n",
       "      <td>14.0</td>\n",
       "      <td>2.0</td>\n",
       "      <td>1.0</td>\n",
       "      <td>0.0</td>\n",
       "      <td>6.0</td>\n",
       "      <td>3.0</td>\n",
       "      <td>...</td>\n",
       "      <td>1.0</td>\n",
       "      <td>0.0</td>\n",
       "      <td>0.0</td>\n",
       "      <td>0.0</td>\n",
       "      <td>0.0</td>\n",
       "      <td>0.0</td>\n",
       "      <td>0.0</td>\n",
       "      <td>0.0</td>\n",
       "      <td>0.0</td>\n",
       "      <td>0.0</td>\n",
       "    </tr>\n",
       "    <tr>\n",
       "      <th>4997</th>\n",
       "      <td>4.0</td>\n",
       "      <td>0.0</td>\n",
       "      <td>75.0</td>\n",
       "      <td>6.0</td>\n",
       "      <td>17.0</td>\n",
       "      <td>4.0</td>\n",
       "      <td>1.0</td>\n",
       "      <td>0.0</td>\n",
       "      <td>24.0</td>\n",
       "      <td>5.0</td>\n",
       "      <td>...</td>\n",
       "      <td>1.0</td>\n",
       "      <td>1.0</td>\n",
       "      <td>0.0</td>\n",
       "      <td>0.0</td>\n",
       "      <td>0.0</td>\n",
       "      <td>0.0</td>\n",
       "      <td>1.0</td>\n",
       "      <td>0.0</td>\n",
       "      <td>0.0</td>\n",
       "      <td>0.0</td>\n",
       "    </tr>\n",
       "    <tr>\n",
       "      <th>4998</th>\n",
       "      <td>1.0</td>\n",
       "      <td>0.0</td>\n",
       "      <td>47.0</td>\n",
       "      <td>4.0</td>\n",
       "      <td>19.0</td>\n",
       "      <td>4.0</td>\n",
       "      <td>2.0</td>\n",
       "      <td>0.0</td>\n",
       "      <td>3.0</td>\n",
       "      <td>2.0</td>\n",
       "      <td>...</td>\n",
       "      <td>1.0</td>\n",
       "      <td>0.0</td>\n",
       "      <td>1.0</td>\n",
       "      <td>1.0</td>\n",
       "      <td>1.0</td>\n",
       "      <td>0.0</td>\n",
       "      <td>1.0</td>\n",
       "      <td>0.0</td>\n",
       "      <td>0.0</td>\n",
       "      <td>0.0</td>\n",
       "    </tr>\n",
       "    <tr>\n",
       "      <th>4999</th>\n",
       "      <td>3.0</td>\n",
       "      <td>1.0</td>\n",
       "      <td>41.0</td>\n",
       "      <td>4.0</td>\n",
       "      <td>10.0</td>\n",
       "      <td>1.0</td>\n",
       "      <td>5.0</td>\n",
       "      <td>0.0</td>\n",
       "      <td>20.0</td>\n",
       "      <td>5.0</td>\n",
       "      <td>...</td>\n",
       "      <td>1.0</td>\n",
       "      <td>0.0</td>\n",
       "      <td>0.0</td>\n",
       "      <td>0.0</td>\n",
       "      <td>0.0</td>\n",
       "      <td>0.0</td>\n",
       "      <td>0.0</td>\n",
       "      <td>0.0</td>\n",
       "      <td>0.0</td>\n",
       "      <td>0.0</td>\n",
       "    </tr>\n",
       "  </tbody>\n",
       "</table>\n",
       "<p>5000 rows × 113 columns</p>\n",
       "</div>"
      ],
      "text/plain": [
       "      region  gender   age  agecat    ed  edcat  jobcat  union  employ  \\\n",
       "0        1.0     1.0  20.0     2.0  15.0    3.0     1.0    1.0     0.0   \n",
       "1        5.0     0.0  22.0     2.0  17.0    4.0     2.0    0.0     0.0   \n",
       "2        3.0     1.0  67.0     6.0  14.0    2.0     2.0    0.0    16.0   \n",
       "3        4.0     0.0  23.0     2.0  16.0    3.0     2.0    0.0     0.0   \n",
       "4        2.0     0.0  26.0     3.0  16.0    3.0     2.0    0.0     1.0   \n",
       "...      ...     ...   ...     ...   ...    ...     ...    ...     ...   \n",
       "4995     2.0     0.0  68.0     6.0  10.0    1.0     1.0    0.0    24.0   \n",
       "4996     3.0     0.0  51.0     5.0  14.0    2.0     1.0    0.0     6.0   \n",
       "4997     4.0     0.0  75.0     6.0  17.0    4.0     1.0    0.0    24.0   \n",
       "4998     1.0     0.0  47.0     4.0  19.0    4.0     2.0    0.0     3.0   \n",
       "4999     3.0     1.0  41.0     4.0  10.0    1.0     5.0    0.0    20.0   \n",
       "\n",
       "      empcat  ...  owncd  ownpda  ownpc  ownipod  owngame  ownfax  news  \\\n",
       "0        1.0  ...    0.0     0.0    0.0      1.0      1.0     0.0   0.0   \n",
       "1        1.0  ...    1.0     1.0    1.0      1.0      1.0     1.0   1.0   \n",
       "2        5.0  ...    1.0     0.0    0.0      0.0      0.0     0.0   1.0   \n",
       "3        1.0  ...    1.0     0.0    1.0      1.0      1.0     0.0   1.0   \n",
       "4        1.0  ...    1.0     0.0    1.0      0.0      1.0     0.0   0.0   \n",
       "...      ...  ...    ...     ...    ...      ...      ...     ...   ...   \n",
       "4995     5.0  ...    1.0     0.0    0.0      0.0      0.0     0.0   1.0   \n",
       "4996     3.0  ...    1.0     0.0    0.0      0.0      0.0     0.0   0.0   \n",
       "4997     5.0  ...    1.0     1.0    0.0      0.0      0.0     0.0   1.0   \n",
       "4998     2.0  ...    1.0     0.0    1.0      1.0      1.0     0.0   1.0   \n",
       "4999     5.0  ...    1.0     0.0    0.0      0.0      0.0     0.0   0.0   \n",
       "\n",
       "      response_01  response_02  response_03  \n",
       "0             0.0          1.0          0.0  \n",
       "1             0.0          0.0          0.0  \n",
       "2             0.0          0.0          0.0  \n",
       "3             1.0          0.0          0.0  \n",
       "4             0.0          1.0          0.0  \n",
       "...           ...          ...          ...  \n",
       "4995          0.0          0.0          0.0  \n",
       "4996          0.0          0.0          0.0  \n",
       "4997          0.0          0.0          0.0  \n",
       "4998          0.0          0.0          0.0  \n",
       "4999          0.0          0.0          0.0  \n",
       "\n",
       "[5000 rows x 113 columns]"
      ]
     },
     "execution_count": 13,
     "metadata": {},
     "output_type": "execute_result"
    }
   ],
   "source": [
    "data_new"
   ]
  },
  {
   "cell_type": "code",
   "execution_count": 14,
   "metadata": {},
   "outputs": [],
   "source": [
    "#drop variables of high corr\n",
    "corr=data_new.corr()"
   ]
  },
  {
   "cell_type": "code",
   "execution_count": 15,
   "metadata": {},
   "outputs": [],
   "source": [
    "columns = np.full((corr.shape[0],), True, dtype=bool)\n",
    "for i in range(corr.shape[0]):\n",
    "    for j in range(i+1, corr.shape[0]):\n",
    "        if corr.iloc[i,j] >= 0.9:\n",
    "            if columns[j]:\n",
    "                columns[j] = False\n",
    "selected_columns = data_new.columns[columns]\n",
    "data_new = data_new[selected_columns]"
   ]
  },
  {
   "cell_type": "code",
   "execution_count": 16,
   "metadata": {},
   "outputs": [
    {
     "data": {
      "text/html": [
       "<div>\n",
       "<style scoped>\n",
       "    .dataframe tbody tr th:only-of-type {\n",
       "        vertical-align: middle;\n",
       "    }\n",
       "\n",
       "    .dataframe tbody tr th {\n",
       "        vertical-align: top;\n",
       "    }\n",
       "\n",
       "    .dataframe thead th {\n",
       "        text-align: right;\n",
       "    }\n",
       "</style>\n",
       "<table border=\"1\" class=\"dataframe\">\n",
       "  <thead>\n",
       "    <tr style=\"text-align: right;\">\n",
       "      <th></th>\n",
       "      <th>region</th>\n",
       "      <th>gender</th>\n",
       "      <th>age</th>\n",
       "      <th>ed</th>\n",
       "      <th>jobcat</th>\n",
       "      <th>union</th>\n",
       "      <th>employ</th>\n",
       "      <th>empcat</th>\n",
       "      <th>retire</th>\n",
       "      <th>income</th>\n",
       "      <th>...</th>\n",
       "      <th>owncd</th>\n",
       "      <th>ownpda</th>\n",
       "      <th>ownpc</th>\n",
       "      <th>ownipod</th>\n",
       "      <th>owngame</th>\n",
       "      <th>ownfax</th>\n",
       "      <th>news</th>\n",
       "      <th>response_01</th>\n",
       "      <th>response_02</th>\n",
       "      <th>response_03</th>\n",
       "    </tr>\n",
       "  </thead>\n",
       "  <tbody>\n",
       "    <tr>\n",
       "      <th>0</th>\n",
       "      <td>1.0</td>\n",
       "      <td>1.0</td>\n",
       "      <td>20.0</td>\n",
       "      <td>15.0</td>\n",
       "      <td>1.0</td>\n",
       "      <td>1.0</td>\n",
       "      <td>0.0</td>\n",
       "      <td>1.0</td>\n",
       "      <td>0.0</td>\n",
       "      <td>31.0</td>\n",
       "      <td>...</td>\n",
       "      <td>0.0</td>\n",
       "      <td>0.0</td>\n",
       "      <td>0.0</td>\n",
       "      <td>1.0</td>\n",
       "      <td>1.0</td>\n",
       "      <td>0.0</td>\n",
       "      <td>0.0</td>\n",
       "      <td>0.0</td>\n",
       "      <td>1.0</td>\n",
       "      <td>0.0</td>\n",
       "    </tr>\n",
       "    <tr>\n",
       "      <th>1</th>\n",
       "      <td>5.0</td>\n",
       "      <td>0.0</td>\n",
       "      <td>22.0</td>\n",
       "      <td>17.0</td>\n",
       "      <td>2.0</td>\n",
       "      <td>0.0</td>\n",
       "      <td>0.0</td>\n",
       "      <td>1.0</td>\n",
       "      <td>0.0</td>\n",
       "      <td>15.0</td>\n",
       "      <td>...</td>\n",
       "      <td>1.0</td>\n",
       "      <td>1.0</td>\n",
       "      <td>1.0</td>\n",
       "      <td>1.0</td>\n",
       "      <td>1.0</td>\n",
       "      <td>1.0</td>\n",
       "      <td>1.0</td>\n",
       "      <td>0.0</td>\n",
       "      <td>0.0</td>\n",
       "      <td>0.0</td>\n",
       "    </tr>\n",
       "    <tr>\n",
       "      <th>2</th>\n",
       "      <td>3.0</td>\n",
       "      <td>1.0</td>\n",
       "      <td>67.0</td>\n",
       "      <td>14.0</td>\n",
       "      <td>2.0</td>\n",
       "      <td>0.0</td>\n",
       "      <td>16.0</td>\n",
       "      <td>5.0</td>\n",
       "      <td>0.0</td>\n",
       "      <td>35.0</td>\n",
       "      <td>...</td>\n",
       "      <td>1.0</td>\n",
       "      <td>0.0</td>\n",
       "      <td>0.0</td>\n",
       "      <td>0.0</td>\n",
       "      <td>0.0</td>\n",
       "      <td>0.0</td>\n",
       "      <td>1.0</td>\n",
       "      <td>0.0</td>\n",
       "      <td>0.0</td>\n",
       "      <td>0.0</td>\n",
       "    </tr>\n",
       "    <tr>\n",
       "      <th>3</th>\n",
       "      <td>4.0</td>\n",
       "      <td>0.0</td>\n",
       "      <td>23.0</td>\n",
       "      <td>16.0</td>\n",
       "      <td>2.0</td>\n",
       "      <td>0.0</td>\n",
       "      <td>0.0</td>\n",
       "      <td>1.0</td>\n",
       "      <td>0.0</td>\n",
       "      <td>20.0</td>\n",
       "      <td>...</td>\n",
       "      <td>1.0</td>\n",
       "      <td>0.0</td>\n",
       "      <td>1.0</td>\n",
       "      <td>1.0</td>\n",
       "      <td>1.0</td>\n",
       "      <td>0.0</td>\n",
       "      <td>1.0</td>\n",
       "      <td>1.0</td>\n",
       "      <td>0.0</td>\n",
       "      <td>0.0</td>\n",
       "    </tr>\n",
       "    <tr>\n",
       "      <th>4</th>\n",
       "      <td>2.0</td>\n",
       "      <td>0.0</td>\n",
       "      <td>26.0</td>\n",
       "      <td>16.0</td>\n",
       "      <td>2.0</td>\n",
       "      <td>0.0</td>\n",
       "      <td>1.0</td>\n",
       "      <td>1.0</td>\n",
       "      <td>0.0</td>\n",
       "      <td>23.0</td>\n",
       "      <td>...</td>\n",
       "      <td>1.0</td>\n",
       "      <td>0.0</td>\n",
       "      <td>1.0</td>\n",
       "      <td>0.0</td>\n",
       "      <td>1.0</td>\n",
       "      <td>0.0</td>\n",
       "      <td>0.0</td>\n",
       "      <td>0.0</td>\n",
       "      <td>1.0</td>\n",
       "      <td>0.0</td>\n",
       "    </tr>\n",
       "    <tr>\n",
       "      <th>...</th>\n",
       "      <td>...</td>\n",
       "      <td>...</td>\n",
       "      <td>...</td>\n",
       "      <td>...</td>\n",
       "      <td>...</td>\n",
       "      <td>...</td>\n",
       "      <td>...</td>\n",
       "      <td>...</td>\n",
       "      <td>...</td>\n",
       "      <td>...</td>\n",
       "      <td>...</td>\n",
       "      <td>...</td>\n",
       "      <td>...</td>\n",
       "      <td>...</td>\n",
       "      <td>...</td>\n",
       "      <td>...</td>\n",
       "      <td>...</td>\n",
       "      <td>...</td>\n",
       "      <td>...</td>\n",
       "      <td>...</td>\n",
       "      <td>...</td>\n",
       "    </tr>\n",
       "    <tr>\n",
       "      <th>4995</th>\n",
       "      <td>2.0</td>\n",
       "      <td>0.0</td>\n",
       "      <td>68.0</td>\n",
       "      <td>10.0</td>\n",
       "      <td>1.0</td>\n",
       "      <td>0.0</td>\n",
       "      <td>24.0</td>\n",
       "      <td>5.0</td>\n",
       "      <td>0.0</td>\n",
       "      <td>196.0</td>\n",
       "      <td>...</td>\n",
       "      <td>1.0</td>\n",
       "      <td>0.0</td>\n",
       "      <td>0.0</td>\n",
       "      <td>0.0</td>\n",
       "      <td>0.0</td>\n",
       "      <td>0.0</td>\n",
       "      <td>1.0</td>\n",
       "      <td>0.0</td>\n",
       "      <td>0.0</td>\n",
       "      <td>0.0</td>\n",
       "    </tr>\n",
       "    <tr>\n",
       "      <th>4996</th>\n",
       "      <td>3.0</td>\n",
       "      <td>0.0</td>\n",
       "      <td>51.0</td>\n",
       "      <td>14.0</td>\n",
       "      <td>1.0</td>\n",
       "      <td>0.0</td>\n",
       "      <td>6.0</td>\n",
       "      <td>3.0</td>\n",
       "      <td>0.0</td>\n",
       "      <td>83.0</td>\n",
       "      <td>...</td>\n",
       "      <td>1.0</td>\n",
       "      <td>0.0</td>\n",
       "      <td>0.0</td>\n",
       "      <td>0.0</td>\n",
       "      <td>0.0</td>\n",
       "      <td>0.0</td>\n",
       "      <td>0.0</td>\n",
       "      <td>0.0</td>\n",
       "      <td>0.0</td>\n",
       "      <td>0.0</td>\n",
       "    </tr>\n",
       "    <tr>\n",
       "      <th>4997</th>\n",
       "      <td>4.0</td>\n",
       "      <td>0.0</td>\n",
       "      <td>75.0</td>\n",
       "      <td>17.0</td>\n",
       "      <td>1.0</td>\n",
       "      <td>0.0</td>\n",
       "      <td>24.0</td>\n",
       "      <td>5.0</td>\n",
       "      <td>0.0</td>\n",
       "      <td>108.0</td>\n",
       "      <td>...</td>\n",
       "      <td>1.0</td>\n",
       "      <td>1.0</td>\n",
       "      <td>0.0</td>\n",
       "      <td>0.0</td>\n",
       "      <td>0.0</td>\n",
       "      <td>0.0</td>\n",
       "      <td>1.0</td>\n",
       "      <td>0.0</td>\n",
       "      <td>0.0</td>\n",
       "      <td>0.0</td>\n",
       "    </tr>\n",
       "    <tr>\n",
       "      <th>4998</th>\n",
       "      <td>1.0</td>\n",
       "      <td>0.0</td>\n",
       "      <td>47.0</td>\n",
       "      <td>19.0</td>\n",
       "      <td>2.0</td>\n",
       "      <td>0.0</td>\n",
       "      <td>3.0</td>\n",
       "      <td>2.0</td>\n",
       "      <td>0.0</td>\n",
       "      <td>189.0</td>\n",
       "      <td>...</td>\n",
       "      <td>1.0</td>\n",
       "      <td>0.0</td>\n",
       "      <td>1.0</td>\n",
       "      <td>1.0</td>\n",
       "      <td>1.0</td>\n",
       "      <td>0.0</td>\n",
       "      <td>1.0</td>\n",
       "      <td>0.0</td>\n",
       "      <td>0.0</td>\n",
       "      <td>0.0</td>\n",
       "    </tr>\n",
       "    <tr>\n",
       "      <th>4999</th>\n",
       "      <td>3.0</td>\n",
       "      <td>1.0</td>\n",
       "      <td>41.0</td>\n",
       "      <td>10.0</td>\n",
       "      <td>5.0</td>\n",
       "      <td>0.0</td>\n",
       "      <td>20.0</td>\n",
       "      <td>5.0</td>\n",
       "      <td>0.0</td>\n",
       "      <td>77.0</td>\n",
       "      <td>...</td>\n",
       "      <td>1.0</td>\n",
       "      <td>0.0</td>\n",
       "      <td>0.0</td>\n",
       "      <td>0.0</td>\n",
       "      <td>0.0</td>\n",
       "      <td>0.0</td>\n",
       "      <td>0.0</td>\n",
       "      <td>0.0</td>\n",
       "      <td>0.0</td>\n",
       "      <td>0.0</td>\n",
       "    </tr>\n",
       "  </tbody>\n",
       "</table>\n",
       "<p>5000 rows × 102 columns</p>\n",
       "</div>"
      ],
      "text/plain": [
       "      region  gender   age    ed  jobcat  union  employ  empcat  retire  \\\n",
       "0        1.0     1.0  20.0  15.0     1.0    1.0     0.0     1.0     0.0   \n",
       "1        5.0     0.0  22.0  17.0     2.0    0.0     0.0     1.0     0.0   \n",
       "2        3.0     1.0  67.0  14.0     2.0    0.0    16.0     5.0     0.0   \n",
       "3        4.0     0.0  23.0  16.0     2.0    0.0     0.0     1.0     0.0   \n",
       "4        2.0     0.0  26.0  16.0     2.0    0.0     1.0     1.0     0.0   \n",
       "...      ...     ...   ...   ...     ...    ...     ...     ...     ...   \n",
       "4995     2.0     0.0  68.0  10.0     1.0    0.0    24.0     5.0     0.0   \n",
       "4996     3.0     0.0  51.0  14.0     1.0    0.0     6.0     3.0     0.0   \n",
       "4997     4.0     0.0  75.0  17.0     1.0    0.0    24.0     5.0     0.0   \n",
       "4998     1.0     0.0  47.0  19.0     2.0    0.0     3.0     2.0     0.0   \n",
       "4999     3.0     1.0  41.0  10.0     5.0    0.0    20.0     5.0     0.0   \n",
       "\n",
       "      income  ...  owncd  ownpda  ownpc  ownipod  owngame  ownfax  news  \\\n",
       "0       31.0  ...    0.0     0.0    0.0      1.0      1.0     0.0   0.0   \n",
       "1       15.0  ...    1.0     1.0    1.0      1.0      1.0     1.0   1.0   \n",
       "2       35.0  ...    1.0     0.0    0.0      0.0      0.0     0.0   1.0   \n",
       "3       20.0  ...    1.0     0.0    1.0      1.0      1.0     0.0   1.0   \n",
       "4       23.0  ...    1.0     0.0    1.0      0.0      1.0     0.0   0.0   \n",
       "...      ...  ...    ...     ...    ...      ...      ...     ...   ...   \n",
       "4995   196.0  ...    1.0     0.0    0.0      0.0      0.0     0.0   1.0   \n",
       "4996    83.0  ...    1.0     0.0    0.0      0.0      0.0     0.0   0.0   \n",
       "4997   108.0  ...    1.0     1.0    0.0      0.0      0.0     0.0   1.0   \n",
       "4998   189.0  ...    1.0     0.0    1.0      1.0      1.0     0.0   1.0   \n",
       "4999    77.0  ...    1.0     0.0    0.0      0.0      0.0     0.0   0.0   \n",
       "\n",
       "      response_01  response_02  response_03  \n",
       "0             0.0          1.0          0.0  \n",
       "1             0.0          0.0          0.0  \n",
       "2             0.0          0.0          0.0  \n",
       "3             1.0          0.0          0.0  \n",
       "4             0.0          1.0          0.0  \n",
       "...           ...          ...          ...  \n",
       "4995          0.0          0.0          0.0  \n",
       "4996          0.0          0.0          0.0  \n",
       "4997          0.0          0.0          0.0  \n",
       "4998          0.0          0.0          0.0  \n",
       "4999          0.0          0.0          0.0  \n",
       "\n",
       "[5000 rows x 102 columns]"
      ]
     },
     "execution_count": 16,
     "metadata": {},
     "output_type": "execute_result"
    }
   ],
   "source": [
    "data_new"
   ]
  },
  {
   "cell_type": "code",
   "execution_count": 17,
   "metadata": {},
   "outputs": [
    {
     "data": {
      "text/plain": [
       "['region',\n",
       " 'gender',\n",
       " 'age',\n",
       " 'ed',\n",
       " 'jobcat',\n",
       " 'union',\n",
       " 'employ',\n",
       " 'empcat',\n",
       " 'retire',\n",
       " 'income',\n",
       " 'lninc',\n",
       " 'debtinc',\n",
       " 'creddebt',\n",
       " 'othdebt',\n",
       " 'default',\n",
       " 'jobsat',\n",
       " 'marital',\n",
       " 'reside',\n",
       " 'pets',\n",
       " 'pets_cats',\n",
       " 'pets_dogs',\n",
       " 'pets_birds',\n",
       " 'pets_reptiles',\n",
       " 'pets_small',\n",
       " 'pets_saltfish',\n",
       " 'pets_freshfish',\n",
       " 'homeown',\n",
       " 'hometype',\n",
       " 'address',\n",
       " 'cars',\n",
       " 'carown',\n",
       " 'cartype',\n",
       " 'carvalue',\n",
       " 'carcatvalue',\n",
       " 'carbought',\n",
       " 'carbuy',\n",
       " 'commute',\n",
       " 'commutecar',\n",
       " 'commutemotorcycle',\n",
       " 'commutecarpool',\n",
       " 'commutebus',\n",
       " 'commuterail',\n",
       " 'commutepublic',\n",
       " 'commutebike',\n",
       " 'commutewalk',\n",
       " 'commutenonmotor',\n",
       " 'telecommute',\n",
       " 'reason',\n",
       " 'polview',\n",
       " 'polparty',\n",
       " 'polcontrib',\n",
       " 'vote',\n",
       " 'card',\n",
       " 'cardtype',\n",
       " 'cardbenefit',\n",
       " 'cardfee',\n",
       " 'cardtenure',\n",
       " 'cardtenurecat',\n",
       " 'card2',\n",
       " 'card2type',\n",
       " 'card2benefit',\n",
       " 'card2fee',\n",
       " 'cardspent',\n",
       " 'card2spent',\n",
       " 'active',\n",
       " 'bfast',\n",
       " 'churn',\n",
       " 'longmon',\n",
       " 'lnlongmon',\n",
       " 'tollfree',\n",
       " 'tollmon',\n",
       " 'tollten',\n",
       " 'equip',\n",
       " 'equipten',\n",
       " 'callcard',\n",
       " 'cardmon',\n",
       " 'wireless',\n",
       " 'wiremon',\n",
       " 'wireten',\n",
       " 'multline',\n",
       " 'voice',\n",
       " 'pager',\n",
       " 'internet',\n",
       " 'callid',\n",
       " 'callwait',\n",
       " 'forward',\n",
       " 'confer',\n",
       " 'ebill',\n",
       " 'owntv',\n",
       " 'hourstv',\n",
       " 'ownvcr',\n",
       " 'owndvd',\n",
       " 'owncd',\n",
       " 'ownpda',\n",
       " 'ownpc',\n",
       " 'ownipod',\n",
       " 'owngame',\n",
       " 'ownfax',\n",
       " 'news',\n",
       " 'response_01',\n",
       " 'response_02',\n",
       " 'response_03']"
      ]
     },
     "execution_count": 17,
     "metadata": {},
     "output_type": "execute_result"
    }
   ],
   "source": [
    "list(data_new.columns) "
   ]
  },
  {
   "cell_type": "code",
   "execution_count": 18,
   "metadata": {},
   "outputs": [
    {
     "data": {
      "text/plain": [
       "(5000, 102)"
      ]
     },
     "execution_count": 18,
     "metadata": {},
     "output_type": "execute_result"
    }
   ],
   "source": [
    "data_new.shape"
   ]
  },
  {
   "cell_type": "code",
   "execution_count": 19,
   "metadata": {},
   "outputs": [],
   "source": [
    "def outlier_miss_treat(x):\n",
    "    x=x.clip_upper(x.quantile(0.99))\n",
    "    x=x.clip_lower(x.quantile(0.01))\n",
    "    x=x.fillna(x.median())\n",
    "    return x"
   ]
  },
  {
   "cell_type": "code",
   "execution_count": 20,
   "metadata": {},
   "outputs": [
    {
     "data": {
      "text/html": [
       "<div>\n",
       "<style scoped>\n",
       "    .dataframe tbody tr th:only-of-type {\n",
       "        vertical-align: middle;\n",
       "    }\n",
       "\n",
       "    .dataframe tbody tr th {\n",
       "        vertical-align: top;\n",
       "    }\n",
       "\n",
       "    .dataframe thead th {\n",
       "        text-align: right;\n",
       "    }\n",
       "</style>\n",
       "<table border=\"1\" class=\"dataframe\">\n",
       "  <thead>\n",
       "    <tr style=\"text-align: right;\">\n",
       "      <th></th>\n",
       "      <th>region</th>\n",
       "      <th>gender</th>\n",
       "      <th>age</th>\n",
       "      <th>ed</th>\n",
       "      <th>jobcat</th>\n",
       "      <th>union</th>\n",
       "      <th>employ</th>\n",
       "      <th>empcat</th>\n",
       "      <th>retire</th>\n",
       "      <th>income</th>\n",
       "      <th>...</th>\n",
       "      <th>owncd</th>\n",
       "      <th>ownpda</th>\n",
       "      <th>ownpc</th>\n",
       "      <th>ownipod</th>\n",
       "      <th>owngame</th>\n",
       "      <th>ownfax</th>\n",
       "      <th>news</th>\n",
       "      <th>response_01</th>\n",
       "      <th>response_02</th>\n",
       "      <th>response_03</th>\n",
       "    </tr>\n",
       "  </thead>\n",
       "  <tbody>\n",
       "    <tr>\n",
       "      <th>count</th>\n",
       "      <td>5000.00000</td>\n",
       "      <td>5000.000000</td>\n",
       "      <td>5000.000000</td>\n",
       "      <td>5000.000000</td>\n",
       "      <td>5000.0000</td>\n",
       "      <td>5000.00000</td>\n",
       "      <td>5000.000000</td>\n",
       "      <td>5000.0000</td>\n",
       "      <td>5000.000000</td>\n",
       "      <td>5000.000000</td>\n",
       "      <td>...</td>\n",
       "      <td>5000.000000</td>\n",
       "      <td>5000.000000</td>\n",
       "      <td>5000.00000</td>\n",
       "      <td>5000.000000</td>\n",
       "      <td>5000.000000</td>\n",
       "      <td>5000.000000</td>\n",
       "      <td>5000.000000</td>\n",
       "      <td>5000.000000</td>\n",
       "      <td>5000.000000</td>\n",
       "      <td>5000.000000</td>\n",
       "    </tr>\n",
       "    <tr>\n",
       "      <th>mean</th>\n",
       "      <td>3.00140</td>\n",
       "      <td>0.503600</td>\n",
       "      <td>47.025600</td>\n",
       "      <td>14.544200</td>\n",
       "      <td>2.7528</td>\n",
       "      <td>0.15120</td>\n",
       "      <td>9.698000</td>\n",
       "      <td>2.9326</td>\n",
       "      <td>0.147600</td>\n",
       "      <td>53.629900</td>\n",
       "      <td>...</td>\n",
       "      <td>0.932800</td>\n",
       "      <td>0.201000</td>\n",
       "      <td>0.63280</td>\n",
       "      <td>0.479200</td>\n",
       "      <td>0.474800</td>\n",
       "      <td>0.178800</td>\n",
       "      <td>0.472600</td>\n",
       "      <td>0.083600</td>\n",
       "      <td>0.129800</td>\n",
       "      <td>0.102600</td>\n",
       "    </tr>\n",
       "    <tr>\n",
       "      <th>std</th>\n",
       "      <td>1.42176</td>\n",
       "      <td>0.500037</td>\n",
       "      <td>17.770338</td>\n",
       "      <td>3.242553</td>\n",
       "      <td>1.7379</td>\n",
       "      <td>0.35828</td>\n",
       "      <td>9.581689</td>\n",
       "      <td>1.4533</td>\n",
       "      <td>0.354739</td>\n",
       "      <td>46.567698</td>\n",
       "      <td>...</td>\n",
       "      <td>0.250393</td>\n",
       "      <td>0.400788</td>\n",
       "      <td>0.48209</td>\n",
       "      <td>0.499617</td>\n",
       "      <td>0.499415</td>\n",
       "      <td>0.383223</td>\n",
       "      <td>0.499299</td>\n",
       "      <td>0.276815</td>\n",
       "      <td>0.336117</td>\n",
       "      <td>0.303466</td>\n",
       "    </tr>\n",
       "    <tr>\n",
       "      <th>min</th>\n",
       "      <td>1.00000</td>\n",
       "      <td>0.000000</td>\n",
       "      <td>18.000000</td>\n",
       "      <td>8.000000</td>\n",
       "      <td>1.0000</td>\n",
       "      <td>0.00000</td>\n",
       "      <td>0.000000</td>\n",
       "      <td>1.0000</td>\n",
       "      <td>0.000000</td>\n",
       "      <td>9.000000</td>\n",
       "      <td>...</td>\n",
       "      <td>0.000000</td>\n",
       "      <td>0.000000</td>\n",
       "      <td>0.00000</td>\n",
       "      <td>0.000000</td>\n",
       "      <td>0.000000</td>\n",
       "      <td>0.000000</td>\n",
       "      <td>0.000000</td>\n",
       "      <td>0.000000</td>\n",
       "      <td>0.000000</td>\n",
       "      <td>0.000000</td>\n",
       "    </tr>\n",
       "    <tr>\n",
       "      <th>25%</th>\n",
       "      <td>2.00000</td>\n",
       "      <td>0.000000</td>\n",
       "      <td>31.000000</td>\n",
       "      <td>12.000000</td>\n",
       "      <td>1.0000</td>\n",
       "      <td>0.00000</td>\n",
       "      <td>2.000000</td>\n",
       "      <td>2.0000</td>\n",
       "      <td>0.000000</td>\n",
       "      <td>24.000000</td>\n",
       "      <td>...</td>\n",
       "      <td>1.000000</td>\n",
       "      <td>0.000000</td>\n",
       "      <td>0.00000</td>\n",
       "      <td>0.000000</td>\n",
       "      <td>0.000000</td>\n",
       "      <td>0.000000</td>\n",
       "      <td>0.000000</td>\n",
       "      <td>0.000000</td>\n",
       "      <td>0.000000</td>\n",
       "      <td>0.000000</td>\n",
       "    </tr>\n",
       "    <tr>\n",
       "      <th>50%</th>\n",
       "      <td>3.00000</td>\n",
       "      <td>1.000000</td>\n",
       "      <td>47.000000</td>\n",
       "      <td>14.000000</td>\n",
       "      <td>2.0000</td>\n",
       "      <td>0.00000</td>\n",
       "      <td>7.000000</td>\n",
       "      <td>3.0000</td>\n",
       "      <td>0.000000</td>\n",
       "      <td>38.000000</td>\n",
       "      <td>...</td>\n",
       "      <td>1.000000</td>\n",
       "      <td>0.000000</td>\n",
       "      <td>1.00000</td>\n",
       "      <td>0.000000</td>\n",
       "      <td>0.000000</td>\n",
       "      <td>0.000000</td>\n",
       "      <td>0.000000</td>\n",
       "      <td>0.000000</td>\n",
       "      <td>0.000000</td>\n",
       "      <td>0.000000</td>\n",
       "    </tr>\n",
       "    <tr>\n",
       "      <th>75%</th>\n",
       "      <td>4.00000</td>\n",
       "      <td>1.000000</td>\n",
       "      <td>62.000000</td>\n",
       "      <td>17.000000</td>\n",
       "      <td>4.0000</td>\n",
       "      <td>0.00000</td>\n",
       "      <td>15.000000</td>\n",
       "      <td>4.0000</td>\n",
       "      <td>0.000000</td>\n",
       "      <td>67.000000</td>\n",
       "      <td>...</td>\n",
       "      <td>1.000000</td>\n",
       "      <td>0.000000</td>\n",
       "      <td>1.00000</td>\n",
       "      <td>1.000000</td>\n",
       "      <td>1.000000</td>\n",
       "      <td>0.000000</td>\n",
       "      <td>1.000000</td>\n",
       "      <td>0.000000</td>\n",
       "      <td>0.000000</td>\n",
       "      <td>0.000000</td>\n",
       "    </tr>\n",
       "    <tr>\n",
       "      <th>max</th>\n",
       "      <td>5.00000</td>\n",
       "      <td>1.000000</td>\n",
       "      <td>79.000000</td>\n",
       "      <td>21.000000</td>\n",
       "      <td>6.0000</td>\n",
       "      <td>1.00000</td>\n",
       "      <td>39.000000</td>\n",
       "      <td>5.0000</td>\n",
       "      <td>1.000000</td>\n",
       "      <td>272.010000</td>\n",
       "      <td>...</td>\n",
       "      <td>1.000000</td>\n",
       "      <td>1.000000</td>\n",
       "      <td>1.00000</td>\n",
       "      <td>1.000000</td>\n",
       "      <td>1.000000</td>\n",
       "      <td>1.000000</td>\n",
       "      <td>1.000000</td>\n",
       "      <td>1.000000</td>\n",
       "      <td>1.000000</td>\n",
       "      <td>1.000000</td>\n",
       "    </tr>\n",
       "  </tbody>\n",
       "</table>\n",
       "<p>8 rows × 102 columns</p>\n",
       "</div>"
      ],
      "text/plain": [
       "           region       gender          age           ed     jobcat  \\\n",
       "count  5000.00000  5000.000000  5000.000000  5000.000000  5000.0000   \n",
       "mean      3.00140     0.503600    47.025600    14.544200     2.7528   \n",
       "std       1.42176     0.500037    17.770338     3.242553     1.7379   \n",
       "min       1.00000     0.000000    18.000000     8.000000     1.0000   \n",
       "25%       2.00000     0.000000    31.000000    12.000000     1.0000   \n",
       "50%       3.00000     1.000000    47.000000    14.000000     2.0000   \n",
       "75%       4.00000     1.000000    62.000000    17.000000     4.0000   \n",
       "max       5.00000     1.000000    79.000000    21.000000     6.0000   \n",
       "\n",
       "            union       employ     empcat       retire       income  ...  \\\n",
       "count  5000.00000  5000.000000  5000.0000  5000.000000  5000.000000  ...   \n",
       "mean      0.15120     9.698000     2.9326     0.147600    53.629900  ...   \n",
       "std       0.35828     9.581689     1.4533     0.354739    46.567698  ...   \n",
       "min       0.00000     0.000000     1.0000     0.000000     9.000000  ...   \n",
       "25%       0.00000     2.000000     2.0000     0.000000    24.000000  ...   \n",
       "50%       0.00000     7.000000     3.0000     0.000000    38.000000  ...   \n",
       "75%       0.00000    15.000000     4.0000     0.000000    67.000000  ...   \n",
       "max       1.00000    39.000000     5.0000     1.000000   272.010000  ...   \n",
       "\n",
       "             owncd       ownpda       ownpc      ownipod      owngame  \\\n",
       "count  5000.000000  5000.000000  5000.00000  5000.000000  5000.000000   \n",
       "mean      0.932800     0.201000     0.63280     0.479200     0.474800   \n",
       "std       0.250393     0.400788     0.48209     0.499617     0.499415   \n",
       "min       0.000000     0.000000     0.00000     0.000000     0.000000   \n",
       "25%       1.000000     0.000000     0.00000     0.000000     0.000000   \n",
       "50%       1.000000     0.000000     1.00000     0.000000     0.000000   \n",
       "75%       1.000000     0.000000     1.00000     1.000000     1.000000   \n",
       "max       1.000000     1.000000     1.00000     1.000000     1.000000   \n",
       "\n",
       "            ownfax         news  response_01  response_02  response_03  \n",
       "count  5000.000000  5000.000000  5000.000000  5000.000000  5000.000000  \n",
       "mean      0.178800     0.472600     0.083600     0.129800     0.102600  \n",
       "std       0.383223     0.499299     0.276815     0.336117     0.303466  \n",
       "min       0.000000     0.000000     0.000000     0.000000     0.000000  \n",
       "25%       0.000000     0.000000     0.000000     0.000000     0.000000  \n",
       "50%       0.000000     0.000000     0.000000     0.000000     0.000000  \n",
       "75%       0.000000     1.000000     0.000000     0.000000     0.000000  \n",
       "max       1.000000     1.000000     1.000000     1.000000     1.000000  \n",
       "\n",
       "[8 rows x 102 columns]"
      ]
     },
     "execution_count": 20,
     "metadata": {},
     "output_type": "execute_result"
    }
   ],
   "source": [
    "data_new=data_new.apply(outlier_miss_treat)\n",
    "data_new.describe()"
   ]
  },
  {
   "cell_type": "code",
   "execution_count": 21,
   "metadata": {},
   "outputs": [],
   "source": [
    "#merge two columns to make Y\n",
    "data_new['ttlspend'] = data_new['cardspent'] + data_new['card2spent']"
   ]
  },
  {
   "cell_type": "code",
   "execution_count": 22,
   "metadata": {},
   "outputs": [],
   "source": [
    "data_new.drop([\"cardspent\",\"card2spent\"],axis=1, inplace=True)"
   ]
  },
  {
   "cell_type": "code",
   "execution_count": 23,
   "metadata": {},
   "outputs": [
    {
     "data": {
      "text/plain": [
       "(5000, 101)"
      ]
     },
     "execution_count": 23,
     "metadata": {},
     "output_type": "execute_result"
    }
   ],
   "source": [
    "data_new.shape"
   ]
  },
  {
   "cell_type": "code",
   "execution_count": 24,
   "metadata": {},
   "outputs": [
    {
     "data": {
      "image/png": "[encoded data removed]",
      "text/plain": [
       "<Figure size 576x396 with 1 Axes>"
      ]
     },
     "metadata": {},
     "output_type": "display_data"
    }
   ],
   "source": [
    "sns.distplot(data_new.ttlspend)\n",
    "plt.show()"
   ]
  },
  {
   "cell_type": "code",
   "execution_count": 25,
   "metadata": {},
   "outputs": [
    {
     "data": {
      "image/png": "[encoded data removed]",
      "text/plain": [
       "<Figure size 576x396 with 1 Axes>"
      ]
     },
     "metadata": {},
     "output_type": "display_data"
    }
   ],
   "source": [
    "#Y is normally distributed\n",
    "sns.distplot(np.log(data_new[\"ttlspend\"]))\n",
    "plt.show()"
   ]
  },
  {
   "cell_type": "code",
   "execution_count": 26,
   "metadata": {},
   "outputs": [
    {
     "data": {
      "text/plain": [
       "0       5.007029\n",
       "1       4.350794\n",
       "2       5.886021\n",
       "3       5.884464\n",
       "4       6.230147\n",
       "          ...   \n",
       "4995    7.262397\n",
       "4996    5.903589\n",
       "4997    7.331551\n",
       "4998    6.623999\n",
       "4999    6.010924\n",
       "Name: ttlspend, Length: 5000, dtype: float64"
      ]
     },
     "execution_count": 26,
     "metadata": {},
     "output_type": "execute_result"
    }
   ],
   "source": [
    "Y=np.log(data_new[\"ttlspend\"])\n",
    "Y"
   ]
  },
  {
   "cell_type": "code",
   "execution_count": 27,
   "metadata": {},
   "outputs": [
    {
     "data": {
      "text/plain": [
       "(5000, 101)"
      ]
     },
     "execution_count": 27,
     "metadata": {},
     "output_type": "execute_result"
    }
   ],
   "source": [
    "data_new.shape"
   ]
  },
  {
   "cell_type": "code",
   "execution_count": 28,
   "metadata": {
    "scrolled": true
   },
   "outputs": [
    {
     "data": {
      "text/html": [
       "<div>\n",
       "<style scoped>\n",
       "    .dataframe tbody tr th:only-of-type {\n",
       "        vertical-align: middle;\n",
       "    }\n",
       "\n",
       "    .dataframe tbody tr th {\n",
       "        vertical-align: top;\n",
       "    }\n",
       "\n",
       "    .dataframe thead th {\n",
       "        text-align: right;\n",
       "    }\n",
       "</style>\n",
       "<table border=\"1\" class=\"dataframe\">\n",
       "  <thead>\n",
       "    <tr style=\"text-align: right;\">\n",
       "      <th></th>\n",
       "      <th>region</th>\n",
       "      <th>gender</th>\n",
       "      <th>age</th>\n",
       "      <th>ed</th>\n",
       "      <th>jobcat</th>\n",
       "      <th>union</th>\n",
       "      <th>employ</th>\n",
       "      <th>empcat</th>\n",
       "      <th>retire</th>\n",
       "      <th>income</th>\n",
       "      <th>...</th>\n",
       "      <th>ownpda</th>\n",
       "      <th>ownpc</th>\n",
       "      <th>ownipod</th>\n",
       "      <th>owngame</th>\n",
       "      <th>ownfax</th>\n",
       "      <th>news</th>\n",
       "      <th>response_01</th>\n",
       "      <th>response_02</th>\n",
       "      <th>response_03</th>\n",
       "      <th>ttlspend</th>\n",
       "    </tr>\n",
       "  </thead>\n",
       "  <tbody>\n",
       "    <tr>\n",
       "      <th>region</th>\n",
       "      <td>1.000000</td>\n",
       "      <td>-0.012810</td>\n",
       "      <td>-0.026525</td>\n",
       "      <td>0.013850</td>\n",
       "      <td>-0.004717</td>\n",
       "      <td>-0.013768</td>\n",
       "      <td>-0.010204</td>\n",
       "      <td>-0.009345</td>\n",
       "      <td>-0.042849</td>\n",
       "      <td>0.036594</td>\n",
       "      <td>...</td>\n",
       "      <td>0.040228</td>\n",
       "      <td>0.020596</td>\n",
       "      <td>0.007504</td>\n",
       "      <td>0.026391</td>\n",
       "      <td>0.036622</td>\n",
       "      <td>0.012312</td>\n",
       "      <td>-0.013004</td>\n",
       "      <td>0.005899</td>\n",
       "      <td>0.005694</td>\n",
       "      <td>0.043054</td>\n",
       "    </tr>\n",
       "    <tr>\n",
       "      <th>gender</th>\n",
       "      <td>-0.012810</td>\n",
       "      <td>1.000000</td>\n",
       "      <td>-0.010186</td>\n",
       "      <td>-0.000777</td>\n",
       "      <td>-0.016470</td>\n",
       "      <td>0.000311</td>\n",
       "      <td>-0.011756</td>\n",
       "      <td>-0.013842</td>\n",
       "      <td>-0.021040</td>\n",
       "      <td>-0.001949</td>\n",
       "      <td>...</td>\n",
       "      <td>-0.001116</td>\n",
       "      <td>-0.006963</td>\n",
       "      <td>-0.021319</td>\n",
       "      <td>0.001164</td>\n",
       "      <td>0.009167</td>\n",
       "      <td>-0.020837</td>\n",
       "      <td>0.018058</td>\n",
       "      <td>0.001385</td>\n",
       "      <td>-0.009685</td>\n",
       "      <td>-0.077578</td>\n",
       "    </tr>\n",
       "    <tr>\n",
       "      <th>age</th>\n",
       "      <td>-0.026525</td>\n",
       "      <td>-0.010186</td>\n",
       "      <td>1.000000</td>\n",
       "      <td>-0.093966</td>\n",
       "      <td>0.037709</td>\n",
       "      <td>0.011206</td>\n",
       "      <td>0.705515</td>\n",
       "      <td>0.739573</td>\n",
       "      <td>0.567519</td>\n",
       "      <td>0.208286</td>\n",
       "      <td>...</td>\n",
       "      <td>-0.074423</td>\n",
       "      <td>-0.133284</td>\n",
       "      <td>-0.217524</td>\n",
       "      <td>-0.235226</td>\n",
       "      <td>-0.042090</td>\n",
       "      <td>0.365204</td>\n",
       "      <td>0.015140</td>\n",
       "      <td>0.013175</td>\n",
       "      <td>-0.026231</td>\n",
       "      <td>0.031339</td>\n",
       "    </tr>\n",
       "    <tr>\n",
       "      <th>ed</th>\n",
       "      <td>0.013850</td>\n",
       "      <td>-0.000777</td>\n",
       "      <td>-0.093966</td>\n",
       "      <td>1.000000</td>\n",
       "      <td>-0.072855</td>\n",
       "      <td>0.000273</td>\n",
       "      <td>-0.214669</td>\n",
       "      <td>-0.197841</td>\n",
       "      <td>-0.092627</td>\n",
       "      <td>0.186802</td>\n",
       "      <td>...</td>\n",
       "      <td>0.300016</td>\n",
       "      <td>0.435623</td>\n",
       "      <td>0.369831</td>\n",
       "      <td>0.377019</td>\n",
       "      <td>0.276163</td>\n",
       "      <td>-0.073510</td>\n",
       "      <td>-0.117333</td>\n",
       "      <td>0.073750</td>\n",
       "      <td>0.107912</td>\n",
       "      <td>0.100796</td>\n",
       "    </tr>\n",
       "    <tr>\n",
       "      <th>jobcat</th>\n",
       "      <td>-0.004717</td>\n",
       "      <td>-0.016470</td>\n",
       "      <td>0.037709</td>\n",
       "      <td>-0.072855</td>\n",
       "      <td>1.000000</td>\n",
       "      <td>0.084778</td>\n",
       "      <td>0.416234</td>\n",
       "      <td>0.346723</td>\n",
       "      <td>0.173736</td>\n",
       "      <td>0.106852</td>\n",
       "      <td>...</td>\n",
       "      <td>-0.009352</td>\n",
       "      <td>-0.037929</td>\n",
       "      <td>-0.026888</td>\n",
       "      <td>-0.050278</td>\n",
       "      <td>0.008409</td>\n",
       "      <td>0.090861</td>\n",
       "      <td>0.000137</td>\n",
       "      <td>0.002888</td>\n",
       "      <td>-0.008415</td>\n",
       "      <td>0.002497</td>\n",
       "    </tr>\n",
       "    <tr>\n",
       "      <th>...</th>\n",
       "      <td>...</td>\n",
       "      <td>...</td>\n",
       "      <td>...</td>\n",
       "      <td>...</td>\n",
       "      <td>...</td>\n",
       "      <td>...</td>\n",
       "      <td>...</td>\n",
       "      <td>...</td>\n",
       "      <td>...</td>\n",
       "      <td>...</td>\n",
       "      <td>...</td>\n",
       "      <td>...</td>\n",
       "      <td>...</td>\n",
       "      <td>...</td>\n",
       "      <td>...</td>\n",
       "      <td>...</td>\n",
       "      <td>...</td>\n",
       "      <td>...</td>\n",
       "      <td>...</td>\n",
       "      <td>...</td>\n",
       "      <td>...</td>\n",
       "    </tr>\n",
       "    <tr>\n",
       "      <th>news</th>\n",
       "      <td>0.012312</td>\n",
       "      <td>-0.020837</td>\n",
       "      <td>0.365204</td>\n",
       "      <td>-0.073510</td>\n",
       "      <td>0.090861</td>\n",
       "      <td>0.007508</td>\n",
       "      <td>0.368778</td>\n",
       "      <td>0.369206</td>\n",
       "      <td>0.213707</td>\n",
       "      <td>0.138730</td>\n",
       "      <td>...</td>\n",
       "      <td>-0.037949</td>\n",
       "      <td>-0.061753</td>\n",
       "      <td>-0.099716</td>\n",
       "      <td>-0.089811</td>\n",
       "      <td>-0.024573</td>\n",
       "      <td>1.000000</td>\n",
       "      <td>0.020919</td>\n",
       "      <td>0.030136</td>\n",
       "      <td>-0.011148</td>\n",
       "      <td>0.040633</td>\n",
       "    </tr>\n",
       "    <tr>\n",
       "      <th>response_01</th>\n",
       "      <td>-0.013004</td>\n",
       "      <td>0.018058</td>\n",
       "      <td>0.015140</td>\n",
       "      <td>-0.117333</td>\n",
       "      <td>0.000137</td>\n",
       "      <td>-0.010492</td>\n",
       "      <td>0.039085</td>\n",
       "      <td>0.030418</td>\n",
       "      <td>-0.003457</td>\n",
       "      <td>-0.002440</td>\n",
       "      <td>...</td>\n",
       "      <td>-0.023472</td>\n",
       "      <td>-0.107194</td>\n",
       "      <td>-0.069870</td>\n",
       "      <td>-0.096176</td>\n",
       "      <td>-0.014592</td>\n",
       "      <td>0.020919</td>\n",
       "      <td>1.000000</td>\n",
       "      <td>-0.015601</td>\n",
       "      <td>-0.018781</td>\n",
       "      <td>-0.007496</td>\n",
       "    </tr>\n",
       "    <tr>\n",
       "      <th>response_02</th>\n",
       "      <td>0.005899</td>\n",
       "      <td>0.001385</td>\n",
       "      <td>0.013175</td>\n",
       "      <td>0.073750</td>\n",
       "      <td>0.002888</td>\n",
       "      <td>0.006431</td>\n",
       "      <td>0.014410</td>\n",
       "      <td>0.017504</td>\n",
       "      <td>-0.019784</td>\n",
       "      <td>0.062895</td>\n",
       "      <td>...</td>\n",
       "      <td>0.021608</td>\n",
       "      <td>0.039891</td>\n",
       "      <td>0.015485</td>\n",
       "      <td>0.011744</td>\n",
       "      <td>0.032549</td>\n",
       "      <td>0.030136</td>\n",
       "      <td>-0.015601</td>\n",
       "      <td>1.000000</td>\n",
       "      <td>0.028266</td>\n",
       "      <td>0.022498</td>\n",
       "    </tr>\n",
       "    <tr>\n",
       "      <th>response_03</th>\n",
       "      <td>0.005694</td>\n",
       "      <td>-0.009685</td>\n",
       "      <td>-0.026231</td>\n",
       "      <td>0.107912</td>\n",
       "      <td>-0.008415</td>\n",
       "      <td>0.004479</td>\n",
       "      <td>-0.029312</td>\n",
       "      <td>-0.032850</td>\n",
       "      <td>-0.038500</td>\n",
       "      <td>0.053011</td>\n",
       "      <td>...</td>\n",
       "      <td>0.077116</td>\n",
       "      <td>0.089388</td>\n",
       "      <td>0.072791</td>\n",
       "      <td>0.094278</td>\n",
       "      <td>0.093360</td>\n",
       "      <td>-0.011148</td>\n",
       "      <td>-0.018781</td>\n",
       "      <td>0.028266</td>\n",
       "      <td>1.000000</td>\n",
       "      <td>0.051618</td>\n",
       "    </tr>\n",
       "    <tr>\n",
       "      <th>ttlspend</th>\n",
       "      <td>0.043054</td>\n",
       "      <td>-0.077578</td>\n",
       "      <td>0.031339</td>\n",
       "      <td>0.100796</td>\n",
       "      <td>0.002497</td>\n",
       "      <td>0.011781</td>\n",
       "      <td>0.090854</td>\n",
       "      <td>0.115397</td>\n",
       "      <td>-0.169651</td>\n",
       "      <td>0.378967</td>\n",
       "      <td>...</td>\n",
       "      <td>0.070234</td>\n",
       "      <td>0.050713</td>\n",
       "      <td>0.031155</td>\n",
       "      <td>0.026651</td>\n",
       "      <td>0.058961</td>\n",
       "      <td>0.040633</td>\n",
       "      <td>-0.007496</td>\n",
       "      <td>0.022498</td>\n",
       "      <td>0.051618</td>\n",
       "      <td>1.000000</td>\n",
       "    </tr>\n",
       "  </tbody>\n",
       "</table>\n",
       "<p>101 rows × 101 columns</p>\n",
       "</div>"
      ],
      "text/plain": [
       "               region    gender       age        ed    jobcat     union  \\\n",
       "region       1.000000 -0.012810 -0.026525  0.013850 -0.004717 -0.013768   \n",
       "gender      -0.012810  1.000000 -0.010186 -0.000777 -0.016470  0.000311   \n",
       "age         -0.026525 -0.010186  1.000000 -0.093966  0.037709  0.011206   \n",
       "ed           0.013850 -0.000777 -0.093966  1.000000 -0.072855  0.000273   \n",
       "jobcat      -0.004717 -0.016470  0.037709 -0.072855  1.000000  0.084778   \n",
       "...               ...       ...       ...       ...       ...       ...   \n",
       "news         0.012312 -0.020837  0.365204 -0.073510  0.090861  0.007508   \n",
       "response_01 -0.013004  0.018058  0.015140 -0.117333  0.000137 -0.010492   \n",
       "response_02  0.005899  0.001385  0.013175  0.073750  0.002888  0.006431   \n",
       "response_03  0.005694 -0.009685 -0.026231  0.107912 -0.008415  0.004479   \n",
       "ttlspend     0.043054 -0.077578  0.031339  0.100796  0.002497  0.011781   \n",
       "\n",
       "               employ    empcat    retire    income  ...    ownpda     ownpc  \\\n",
       "region      -0.010204 -0.009345 -0.042849  0.036594  ...  0.040228  0.020596   \n",
       "gender      -0.011756 -0.013842 -0.021040 -0.001949  ... -0.001116 -0.006963   \n",
       "age          0.705515  0.739573  0.567519  0.208286  ... -0.074423 -0.133284   \n",
       "ed          -0.214669 -0.197841 -0.092627  0.186802  ...  0.300016  0.435623   \n",
       "jobcat       0.416234  0.346723  0.173736  0.106852  ... -0.009352 -0.037929   \n",
       "...               ...       ...       ...       ...  ...       ...       ...   \n",
       "news         0.368778  0.369206  0.213707  0.138730  ... -0.037949 -0.061753   \n",
       "response_01  0.039085  0.030418 -0.003457 -0.002440  ... -0.023472 -0.107194   \n",
       "response_02  0.014410  0.017504 -0.019784  0.062895  ...  0.021608  0.039891   \n",
       "response_03 -0.029312 -0.032850 -0.038500  0.053011  ...  0.077116  0.089388   \n",
       "ttlspend     0.090854  0.115397 -0.169651  0.378967  ...  0.070234  0.050713   \n",
       "\n",
       "              ownipod   owngame    ownfax      news  response_01  response_02  \\\n",
       "region       0.007504  0.026391  0.036622  0.012312    -0.013004     0.005899   \n",
       "gender      -0.021319  0.001164  0.009167 -0.020837     0.018058     0.001385   \n",
       "age         -0.217524 -0.235226 -0.042090  0.365204     0.015140     0.013175   \n",
       "ed           0.369831  0.377019  0.276163 -0.073510    -0.117333     0.073750   \n",
       "jobcat      -0.026888 -0.050278  0.008409  0.090861     0.000137     0.002888   \n",
       "...               ...       ...       ...       ...          ...          ...   \n",
       "news        -0.099716 -0.089811 -0.024573  1.000000     0.020919     0.030136   \n",
       "response_01 -0.069870 -0.096176 -0.014592  0.020919     1.000000    -0.015601   \n",
       "response_02  0.015485  0.011744  0.032549  0.030136    -0.015601     1.000000   \n",
       "response_03  0.072791  0.094278  0.093360 -0.011148    -0.018781     0.028266   \n",
       "ttlspend     0.031155  0.026651  0.058961  0.040633    -0.007496     0.022498   \n",
       "\n",
       "             response_03  ttlspend  \n",
       "region          0.005694  0.043054  \n",
       "gender         -0.009685 -0.077578  \n",
       "age            -0.026231  0.031339  \n",
       "ed              0.107912  0.100796  \n",
       "jobcat         -0.008415  0.002497  \n",
       "...                  ...       ...  \n",
       "news           -0.011148  0.040633  \n",
       "response_01    -0.018781 -0.007496  \n",
       "response_02     0.028266  0.022498  \n",
       "response_03     1.000000  0.051618  \n",
       "ttlspend        0.051618  1.000000  \n",
       "\n",
       "[101 rows x 101 columns]"
      ]
     },
     "execution_count": 28,
     "metadata": {},
     "output_type": "execute_result"
    }
   ],
   "source": [
    "data_new.corr()"
   ]
  },
  {
   "cell_type": "code",
   "execution_count": 29,
   "metadata": {},
   "outputs": [],
   "source": [
    "#data_new.drop(['ttlspend'],axis=1,inplace=True)"
   ]
  },
  {
   "cell_type": "code",
   "execution_count": 30,
   "metadata": {},
   "outputs": [],
   "source": [
    "##Feature Selcetion\n",
    "from sklearn.feature_selection import RFE, SelectKBest, f_regression, f_oneway\n",
    "F_values, P_values = f_regression(data_new,Y)"
   ]
  },
  {
   "cell_type": "code",
   "execution_count": 31,
   "metadata": {},
   "outputs": [
    {
     "data": {
      "text/plain": [
       "array([7.77914910e+00, 3.12065176e+01, 1.67911008e-01, 4.86320636e+01,\n",
       "       6.89756894e-01, 2.35659176e+00, 2.30980932e+01, 4.61578015e+01,\n",
       "       2.07424619e+02, 7.23919844e+02, 9.82060617e+02, 1.23148962e+00,\n",
       "       2.86700328e+02, 3.64131040e+02, 1.69304597e+00, 2.16202526e+01,\n",
       "       1.59268817e+00, 6.75301022e-02, 1.34812508e-01, 1.51730542e-02,\n",
       "       2.50887287e-01, 1.70183913e+00, 2.19673251e+00, 4.62940960e-02,\n",
       "       7.05236502e-02, 2.24899789e-01, 2.39358860e+01, 1.33506342e+00,\n",
       "       1.05707206e+01, 9.87819701e-01, 2.79347488e+01, 3.73705081e-02,\n",
       "       5.18475671e+02, 2.21686167e+02, 2.10947291e-01, 1.32853297e+00,\n",
       "       4.40248678e-01, 1.19163721e+00, 1.18773826e+00, 3.24292358e-01,\n",
       "       7.92561558e-01, 6.00191174e-01, 9.92251583e-02, 3.13719052e+00,\n",
       "       3.11777586e-02, 5.74233180e-01, 3.89474932e-02, 1.36959406e+00,\n",
       "       1.18402980e+00, 1.35673434e-01, 5.57474621e+00, 1.58636123e+01,\n",
       "       2.94987717e+02, 2.80570260e-05, 1.89681702e+00, 2.94086694e-01,\n",
       "       1.32778824e+01, 2.70713336e+01, 3.07134045e+01, 2.99223824e-01,\n",
       "       1.70318341e-02, 1.78005044e+00, 1.00855396e-01, 3.96031449e+00,\n",
       "       1.82907269e+00, 6.25559669e+00, 9.41662684e+00, 1.45000000e+01,\n",
       "       2.72988303e+01, 3.59806958e+01, 1.38136496e+01, 3.32039828e+01,\n",
       "       2.03823848e+00, 1.23452316e+00, 2.72670165e+01, 3.77609195e+01,\n",
       "       4.72388667e+01, 9.72316247e+00, 1.00770124e+01, 1.64079359e+01,\n",
       "       2.75256368e+01, 1.51230266e+01, 1.57752012e+01, 1.31252958e+01,\n",
       "       1.49941986e+01, 5.21394029e+00, 3.58355604e+01, 9.84783048e+00,\n",
       "       1.27426879e+02, 1.38961746e+02, 1.12506000e+02, 2.40933613e+01,\n",
       "       9.69990365e+00, 8.62553666e+00, 8.95048071e+00, 1.96354973e+01,\n",
       "       4.15336705e+00, 3.93699574e-01, 3.69242752e+00, 1.91372143e+01,\n",
       "       2.38045008e+04])"
      ]
     },
     "execution_count": 31,
     "metadata": {},
     "output_type": "execute_result"
    }
   ],
   "source": [
    "F_values"
   ]
  },
  {
   "cell_type": "code",
   "execution_count": 32,
   "metadata": {},
   "outputs": [
    {
     "data": {
      "text/html": [
       "<div>\n",
       "<style scoped>\n",
       "    .dataframe tbody tr th:only-of-type {\n",
       "        vertical-align: middle;\n",
       "    }\n",
       "\n",
       "    .dataframe tbody tr th {\n",
       "        vertical-align: top;\n",
       "    }\n",
       "\n",
       "    .dataframe thead th {\n",
       "        text-align: right;\n",
       "    }\n",
       "</style>\n",
       "<table border=\"1\" class=\"dataframe\">\n",
       "  <thead>\n",
       "    <tr style=\"text-align: right;\">\n",
       "      <th></th>\n",
       "      <th>Feature</th>\n",
       "    </tr>\n",
       "  </thead>\n",
       "  <tbody>\n",
       "    <tr>\n",
       "      <th>0</th>\n",
       "      <td>ttlspend</td>\n",
       "    </tr>\n",
       "    <tr>\n",
       "      <th>1</th>\n",
       "      <td>lninc</td>\n",
       "    </tr>\n",
       "    <tr>\n",
       "      <th>2</th>\n",
       "      <td>income</td>\n",
       "    </tr>\n",
       "    <tr>\n",
       "      <th>3</th>\n",
       "      <td>carvalue</td>\n",
       "    </tr>\n",
       "    <tr>\n",
       "      <th>4</th>\n",
       "      <td>othdebt</td>\n",
       "    </tr>\n",
       "    <tr>\n",
       "      <th>...</th>\n",
       "      <td>...</td>\n",
       "    </tr>\n",
       "    <tr>\n",
       "      <th>96</th>\n",
       "      <td>cartype</td>\n",
       "    </tr>\n",
       "    <tr>\n",
       "      <th>97</th>\n",
       "      <td>commutewalk</td>\n",
       "    </tr>\n",
       "    <tr>\n",
       "      <th>98</th>\n",
       "      <td>card2benefit</td>\n",
       "    </tr>\n",
       "    <tr>\n",
       "      <th>99</th>\n",
       "      <td>pets_cats</td>\n",
       "    </tr>\n",
       "    <tr>\n",
       "      <th>100</th>\n",
       "      <td>cardtype</td>\n",
       "    </tr>\n",
       "  </tbody>\n",
       "</table>\n",
       "<p>101 rows × 1 columns</p>\n",
       "</div>"
      ],
      "text/plain": [
       "          Feature\n",
       "0        ttlspend\n",
       "1           lninc\n",
       "2          income\n",
       "3        carvalue\n",
       "4         othdebt\n",
       "..            ...\n",
       "96        cartype\n",
       "97    commutewalk\n",
       "98   card2benefit\n",
       "99      pets_cats\n",
       "100      cardtype\n",
       "\n",
       "[101 rows x 1 columns]"
      ]
     },
     "execution_count": 32,
     "metadata": {},
     "output_type": "execute_result"
    }
   ],
   "source": [
    "F_reg_results = pd.concat([pd.Series(data_new.columns),pd.Series(F_values),pd.Series(P_values)], axis=1)\n",
    "F_reg_results.columns = ['Feature','F_values','P_values']\n",
    "F_reg=F_reg_results.sort_values('F_values',ascending=False)\n",
    "Features = F_reg[[\"Feature\"]].reset_index().drop('index', axis=1)\n",
    "Features"
   ]
  },
  {
   "cell_type": "code",
   "execution_count": 33,
   "metadata": {},
   "outputs": [
    {
     "data": {
      "text/plain": [
       "0          ttlspend\n",
       "1             lninc\n",
       "2            income\n",
       "3          carvalue\n",
       "4           othdebt\n",
       "           ...     \n",
       "96          cartype\n",
       "97      commutewalk\n",
       "98     card2benefit\n",
       "99        pets_cats\n",
       "100        cardtype\n",
       "Name: Feature, Length: 101, dtype: object"
      ]
     },
     "execution_count": 33,
     "metadata": {},
     "output_type": "execute_result"
    }
   ],
   "source": [
    "Features.iloc[:,0]"
   ]
  },
  {
   "cell_type": "code",
   "execution_count": 34,
   "metadata": {},
   "outputs": [
    {
     "data": {
      "text/plain": [
       "(5000, 101)"
      ]
     },
     "execution_count": 34,
     "metadata": {},
     "output_type": "execute_result"
    }
   ],
   "source": [
    "X_data= data_new[Features.iloc[:,0]]\n",
    "X_data.shape"
   ]
  },
  {
   "cell_type": "code",
   "execution_count": 35,
   "metadata": {},
   "outputs": [],
   "source": [
    "from statsmodels.stats.outliers_influence import variance_inflation_factor\n",
    "from patsy import dmatrices"
   ]
  },
  {
   "cell_type": "code",
   "execution_count": 36,
   "metadata": {},
   "outputs": [],
   "source": [
    "X_data=X_data[X_data.columns.difference([])]"
   ]
  },
  {
   "cell_type": "code",
   "execution_count": 37,
   "metadata": {},
   "outputs": [
    {
     "data": {
      "text/plain": [
       "2.0739283900632293"
      ]
     },
     "execution_count": 37,
     "metadata": {},
     "output_type": "execute_result"
    }
   ],
   "source": [
    "variance_inflation_factor(X_data.values,0)"
   ]
  },
  {
   "cell_type": "code",
   "execution_count": 38,
   "metadata": {},
   "outputs": [],
   "source": [
    "VIF = [variance_inflation_factor(X_data.values,i) for i in range(X_data.shape[1])]"
   ]
  },
  {
   "cell_type": "code",
   "execution_count": 39,
   "metadata": {},
   "outputs": [
    {
     "data": {
      "text/html": [
       "<div>\n",
       "<style scoped>\n",
       "    .dataframe tbody tr th:only-of-type {\n",
       "        vertical-align: middle;\n",
       "    }\n",
       "\n",
       "    .dataframe tbody tr th {\n",
       "        vertical-align: top;\n",
       "    }\n",
       "\n",
       "    .dataframe thead th {\n",
       "        text-align: right;\n",
       "    }\n",
       "</style>\n",
       "<table border=\"1\" class=\"dataframe\">\n",
       "  <thead>\n",
       "    <tr style=\"text-align: right;\">\n",
       "      <th></th>\n",
       "      <th>Feature</th>\n",
       "      <th>VIF</th>\n",
       "    </tr>\n",
       "  </thead>\n",
       "  <tbody>\n",
       "    <tr>\n",
       "      <th>55</th>\n",
       "      <td>lninc</td>\n",
       "      <td>212.432243</td>\n",
       "    </tr>\n",
       "    <tr>\n",
       "      <th>72</th>\n",
       "      <td>pets</td>\n",
       "      <td>199.367886</td>\n",
       "    </tr>\n",
       "    <tr>\n",
       "      <th>76</th>\n",
       "      <td>pets_freshfish</td>\n",
       "      <td>122.649775</td>\n",
       "    </tr>\n",
       "    <tr>\n",
       "      <th>69</th>\n",
       "      <td>owntv</td>\n",
       "      <td>89.711146</td>\n",
       "    </tr>\n",
       "    <tr>\n",
       "      <th>56</th>\n",
       "      <td>lnlongmon</td>\n",
       "      <td>82.650900</td>\n",
       "    </tr>\n",
       "    <tr>\n",
       "      <th>...</th>\n",
       "      <td>...</td>\n",
       "      <td>...</td>\n",
       "    </tr>\n",
       "    <tr>\n",
       "      <th>88</th>\n",
       "      <td>response_03</td>\n",
       "      <td>1.161885</td>\n",
       "    </tr>\n",
       "    <tr>\n",
       "      <th>86</th>\n",
       "      <td>response_01</td>\n",
       "      <td>1.141316</td>\n",
       "    </tr>\n",
       "    <tr>\n",
       "      <th>31</th>\n",
       "      <td>commutemotorcycle</td>\n",
       "      <td>1.132766</td>\n",
       "    </tr>\n",
       "    <tr>\n",
       "      <th>33</th>\n",
       "      <td>commutepublic</td>\n",
       "      <td>1.131822</td>\n",
       "    </tr>\n",
       "    <tr>\n",
       "      <th>32</th>\n",
       "      <td>commutenonmotor</td>\n",
       "      <td>1.112680</td>\n",
       "    </tr>\n",
       "  </tbody>\n",
       "</table>\n",
       "<p>101 rows × 2 columns</p>\n",
       "</div>"
      ],
      "text/plain": [
       "              Feature         VIF\n",
       "55              lninc  212.432243\n",
       "72               pets  199.367886\n",
       "76     pets_freshfish  122.649775\n",
       "69              owntv   89.711146\n",
       "56          lnlongmon   82.650900\n",
       "..                ...         ...\n",
       "88        response_03    1.161885\n",
       "86        response_01    1.141316\n",
       "31  commutemotorcycle    1.132766\n",
       "33      commutepublic    1.131822\n",
       "32    commutenonmotor    1.112680\n",
       "\n",
       "[101 rows x 2 columns]"
      ]
     },
     "execution_count": 39,
     "metadata": {},
     "output_type": "execute_result"
    }
   ],
   "source": [
    "VIF_results = pd.concat([pd.Series(X_data.columns),pd.Series(VIF)],axis=1)\n",
    "VIF_results.columns = ['Feature','VIF']\n",
    "VIF_results.sort_values('VIF', ascending=False,inplace=True)\n",
    "VIF_results"
   ]
  },
  {
   "cell_type": "code",
   "execution_count": 40,
   "metadata": {
    "scrolled": true
   },
   "outputs": [
    {
     "data": {
      "text/plain": [
       "Index(['active', 'address', 'age', 'bfast', 'callcard', 'callid', 'callwait',\n",
       "       'carbought', 'carbuy', 'carcatvalue',\n",
       "       ...\n",
       "       'tollfree', 'tollmon', 'tollten', 'ttlspend', 'union', 'voice', 'vote',\n",
       "       'wireless', 'wiremon', 'wireten'],\n",
       "      dtype='object', length=101)"
      ]
     },
     "execution_count": 40,
     "metadata": {},
     "output_type": "execute_result"
    }
   ],
   "source": [
    "X_data.columns"
   ]
  },
  {
   "cell_type": "code",
   "execution_count": 41,
   "metadata": {},
   "outputs": [
    {
     "data": {
      "text/plain": [
       "(5000, 101)"
      ]
     },
     "execution_count": 41,
     "metadata": {},
     "output_type": "execute_result"
    }
   ],
   "source": [
    "X_data.shape"
   ]
  },
  {
   "cell_type": "code",
   "execution_count": 42,
   "metadata": {},
   "outputs": [],
   "source": [
    "##Train_Test Split\n",
    "from sklearn.model_selection import train_test_split\n",
    "train_X,test_X,train_y,test_y=train_test_split(X_data,Y,test_size=0.3,random_state=123)"
   ]
  },
  {
   "cell_type": "code",
   "execution_count": 43,
   "metadata": {},
   "outputs": [
    {
     "name": "stdout",
     "output_type": "stream",
     "text": [
      "3500\n",
      "1500\n",
      "3500\n",
      "1500\n"
     ]
    }
   ],
   "source": [
    "print(len( train_X))\n",
    "print (len( test_X))\n",
    "print(len( train_y))\n",
    "print (len( test_y))"
   ]
  },
  {
   "cell_type": "code",
   "execution_count": 44,
   "metadata": {},
   "outputs": [],
   "source": [
    "import statsmodels.api as smf"
   ]
  },
  {
   "cell_type": "code",
   "execution_count": 45,
   "metadata": {},
   "outputs": [],
   "source": [
    "train_X = smf.add_constant(train_X)\n",
    "test_X=smf.add_constant(test_X)\n",
    "lm=smf.OLS(train_y,train_X).fit()"
   ]
  },
  {
   "cell_type": "code",
   "execution_count": 46,
   "metadata": {},
   "outputs": [
    {
     "name": "stdout",
     "output_type": "stream",
     "text": [
      "                            OLS Regression Results                            \n",
      "==============================================================================\n",
      "Dep. Variable:               ttlspend   R-squared:                       0.837\n",
      "Model:                            OLS   Adj. R-squared:                  0.832\n",
      "Method:                 Least Squares   F-statistic:                     172.9\n",
      "Date:                Fri, 17 Jul 2020   Prob (F-statistic):               0.00\n",
      "Time:                        13:46:42   Log-Likelihood:                -315.89\n",
      "No. Observations:                3500   AIC:                             835.8\n",
      "Df Residuals:                    3398   BIC:                             1464.\n",
      "Df Model:                         101                                         \n",
      "Covariance Type:            nonrobust                                         \n",
      "=====================================================================================\n",
      "                        coef    std err          t      P>|t|      [0.025      0.975]\n",
      "-------------------------------------------------------------------------------------\n",
      "const                 4.7194      0.087     54.146      0.000       4.549       4.890\n",
      "active                0.0002      0.010      0.025      0.980      -0.019       0.019\n",
      "address           -6.135e-05      0.001     -0.083      0.934      -0.002       0.001\n",
      "age                  -0.0006      0.001     -0.838      0.402      -0.002       0.001\n",
      "bfast                 0.0058      0.006      1.009      0.313      -0.005       0.017\n",
      "callcard              0.0222      0.016      1.422      0.155      -0.008       0.053\n",
      "callid               -0.0116      0.014     -0.846      0.398      -0.038       0.015\n",
      "callwait              0.0060      0.014      0.442      0.659      -0.021       0.033\n",
      "carbought            -0.0036      0.010     -0.350      0.727      -0.023       0.016\n",
      "carbuy               -0.0017      0.010     -0.170      0.865      -0.021       0.018\n",
      "carcatvalue          -0.0344      0.013     -2.742      0.006      -0.059      -0.010\n",
      "card                 -0.0103      0.004     -2.306      0.021      -0.019      -0.002\n",
      "card2                -0.0110      0.004     -2.557      0.011      -0.019      -0.003\n",
      "card2benefit          0.0011      0.004      0.261      0.794      -0.007       0.009\n",
      "card2fee              0.0215      0.012      1.823      0.068      -0.002       0.045\n",
      "card2type            -0.0030      0.004     -0.727      0.468      -0.011       0.005\n",
      "cardbenefit           0.0048      0.004      1.173      0.241      -0.003       0.013\n",
      "cardfee               0.0006      0.012      0.048      0.962      -0.022       0.023\n",
      "cardmon              -0.0006      0.000     -1.183      0.237      -0.001       0.000\n",
      "cardtenure           -0.0018      0.001     -1.473      0.141      -0.004       0.001\n",
      "cardtenurecat        -0.0094      0.008     -1.124      0.261      -0.026       0.007\n",
      "cardtype              0.0066      0.004      1.592      0.111      -0.002       0.015\n",
      "carown                0.0223      0.012      1.861      0.063      -0.001       0.046\n",
      "cars                  0.0027      0.005      0.519      0.604      -0.008       0.013\n",
      "cartype               0.0136      0.009      1.461      0.144      -0.005       0.032\n",
      "carvalue              0.0007      0.001      0.990      0.322      -0.001       0.002\n",
      "churn                 0.0166      0.012      1.347      0.178      -0.008       0.041\n",
      "commute           -4.981e-05      0.003     -0.020      0.984      -0.005       0.005\n",
      "commutebike           0.0030      0.014      0.210      0.833      -0.025       0.031\n",
      "commutebus           -0.0004      0.010     -0.042      0.967      -0.019       0.018\n",
      "commutecar            0.0007      0.015      0.047      0.963      -0.029       0.030\n",
      "commutecarpool        0.0158      0.010      1.511      0.131      -0.005       0.036\n",
      "commutemotorcycle    -0.0084      0.015     -0.564      0.573      -0.038       0.021\n",
      "commutenonmotor       0.0003      0.021      0.015      0.988      -0.040       0.041\n",
      "commutepublic        -0.0007      0.015     -0.043      0.966      -0.031       0.030\n",
      "commuterail           0.0001      0.010      0.010      0.992      -0.020       0.021\n",
      "commutewalk        8.632e-05      0.010      0.009      0.993      -0.020       0.020\n",
      "confer               -0.0132      0.014     -0.941      0.347      -0.041       0.014\n",
      "creddebt             -0.0029      0.003     -0.916      0.360      -0.009       0.003\n",
      "debtinc               0.0004      0.001      0.352      0.725      -0.002       0.003\n",
      "default               0.0079      0.013      0.593      0.553      -0.018       0.034\n",
      "ebill                 0.0015      0.013      0.115      0.909      -0.024       0.028\n",
      "ed                   -0.0033      0.002     -1.763      0.078      -0.007       0.000\n",
      "empcat               -0.0002      0.009     -0.018      0.986      -0.017       0.017\n",
      "employ                0.0007      0.001      0.535      0.593      -0.002       0.003\n",
      "equip                -0.0325      0.020     -1.636      0.102      -0.072       0.006\n",
      "equipten           7.259e-06   1.09e-05      0.666      0.505   -1.41e-05    2.86e-05\n",
      "forward              -0.0031      0.013     -0.233      0.816      -0.030       0.023\n",
      "gender               -0.0095      0.009     -1.025      0.306      -0.028       0.009\n",
      "homeown              -0.0032      0.010     -0.318      0.751      -0.023       0.017\n",
      "hometype              0.0022      0.005      0.425      0.671      -0.008       0.012\n",
      "hourstv               0.0008      0.001      0.760      0.447      -0.001       0.003\n",
      "income               -0.0018      0.000     -5.097      0.000      -0.003      -0.001\n",
      "internet              0.0056      0.005      1.138      0.255      -0.004       0.015\n",
      "jobcat               -0.0050      0.003     -1.534      0.125      -0.011       0.001\n",
      "jobsat               -0.0036      0.004     -0.913      0.362      -0.011       0.004\n",
      "lninc                 0.1722      0.021      8.371      0.000       0.132       0.212\n",
      "lnlongmon             0.0115      0.018      0.653      0.514      -0.023       0.046\n",
      "longmon            7.894e-05      0.001      0.076      0.939      -0.002       0.002\n",
      "marital               0.0098      0.013      0.766      0.444      -0.015       0.035\n",
      "multline              0.0116      0.012      0.972      0.331      -0.012       0.035\n",
      "news                  0.0084      0.011      0.740      0.460      -0.014       0.031\n",
      "othdebt              -0.0010      0.002     -0.443      0.658      -0.005       0.003\n",
      "owncd                 0.0298      0.024      1.257      0.209      -0.017       0.076\n",
      "owndvd                0.0346      0.021      1.653      0.098      -0.006       0.076\n",
      "ownfax                0.0251      0.016      1.573      0.116      -0.006       0.056\n",
      "owngame               0.0101      0.011      0.888      0.375      -0.012       0.032\n",
      "ownipod               0.0018      0.011      0.158      0.875      -0.020       0.024\n",
      "ownpc                -0.0271      0.013     -2.092      0.037      -0.052      -0.002\n",
      "ownpda               -0.0100      0.015     -0.656      0.512      -0.040       0.020\n",
      "owntv                -0.0276      0.047     -0.590      0.555      -0.119       0.064\n",
      "ownvcr               -0.0104      0.022     -0.482      0.630      -0.053       0.032\n",
      "pager                -0.0099      0.016     -0.617      0.538      -0.041       0.022\n",
      "pets                 -0.0061      0.015     -0.394      0.694      -0.036       0.024\n",
      "pets_birds           -0.0033      0.019     -0.172      0.864      -0.041       0.034\n",
      "pets_cats             0.0043      0.017      0.259      0.795      -0.028       0.037\n",
      "pets_dogs            -0.0085      0.017     -0.502      0.615      -0.042       0.025\n",
      "pets_freshfish        0.0055      0.015      0.355      0.722      -0.025       0.036\n",
      "pets_reptiles         0.0213      0.023      0.915      0.360      -0.024       0.067\n",
      "pets_saltfish         0.0563      0.037      1.526      0.127      -0.016       0.129\n",
      "pets_small           -0.0026      0.020     -0.131      0.896      -0.041       0.036\n",
      "polcontrib            0.0002      0.011      0.022      0.982      -0.021       0.022\n",
      "polparty             -0.0046      0.010     -0.479      0.632      -0.023       0.014\n",
      "polview              -0.0020      0.003     -0.597      0.551      -0.009       0.005\n",
      "reason               -0.0021      0.002     -1.308      0.191      -0.005       0.001\n",
      "region               -0.0006      0.003     -0.169      0.866      -0.007       0.006\n",
      "reside               -0.0039      0.005     -0.775      0.439      -0.014       0.006\n",
      "response_01          -0.0123      0.017     -0.745      0.457      -0.045       0.020\n",
      "response_02           0.0070      0.014      0.505      0.613      -0.020       0.034\n",
      "response_03           0.0318      0.016      2.044      0.041       0.001       0.062\n",
      "retire                0.0208      0.024      0.860      0.390      -0.027       0.068\n",
      "telecommute           0.0070      0.012      0.575      0.565      -0.017       0.031\n",
      "tollfree             -0.0145      0.023     -0.622      0.534      -0.060       0.031\n",
      "tollmon           -2.313e-05      0.001     -0.017      0.986      -0.003       0.003\n",
      "tollten            7.005e-06   1.73e-05      0.404      0.686    -2.7e-05     4.1e-05\n",
      "ttlspend              0.0018   1.67e-05    107.518      0.000       0.002       0.002\n",
      "union                 0.0107      0.013      0.828      0.408      -0.015       0.036\n",
      "voice                 0.0216      0.015      1.492      0.136      -0.007       0.050\n",
      "vote                 -0.0031      0.009     -0.329      0.743      -0.022       0.015\n",
      "wireless              0.0589      0.029      2.029      0.043       0.002       0.116\n",
      "wiremon              -0.0019      0.001     -1.642      0.101      -0.004       0.000\n",
      "wireten            2.201e-05   1.61e-05      1.368      0.172   -9.55e-06    5.36e-05\n",
      "==============================================================================\n",
      "Omnibus:                     1393.760   Durbin-Watson:                   1.974\n",
      "Prob(Omnibus):                  0.000   Jarque-Bera (JB):             5390.034\n",
      "Skew:                          -1.981   Prob(JB):                         0.00\n",
      "Kurtosis:                       7.612   Cond. No.                     3.00e+04\n",
      "==============================================================================\n",
      "\n",
      "Warnings:\n",
      "[1] Standard Errors assume that the covariance matrix of the errors is correctly specified.\n",
      "[2] The condition number is large,  3e+04. This might indicate that there are\n",
      "strong multicollinearity or other numerical problems.\n"
     ]
    }
   ],
   "source": [
    "print(lm.summary())"
   ]
  },
  {
   "cell_type": "code",
   "execution_count": 47,
   "metadata": {},
   "outputs": [
    {
     "data": {
      "text/plain": [
       "commutewalk        9.931202e-01\n",
       "commuterail        9.922882e-01\n",
       "commutenonmotor    9.884145e-01\n",
       "tollmon            9.862040e-01\n",
       "empcat             9.855826e-01\n",
       "                       ...     \n",
       "carcatvalue        6.132215e-03\n",
       "income             3.645573e-07\n",
       "lninc              8.267273e-17\n",
       "ttlspend           0.000000e+00\n",
       "const              0.000000e+00\n",
       "Length: 102, dtype: float64"
      ]
     },
     "execution_count": 47,
     "metadata": {},
     "output_type": "execute_result"
    }
   ],
   "source": [
    "lm.pvalues.sort_values(ascending=False)"
   ]
  },
  {
   "cell_type": "code",
   "execution_count": 48,
   "metadata": {},
   "outputs": [
    {
     "name": "stdout",
     "output_type": "stream",
     "text": [
      "MSE Test: 0.06400375519229033\n",
      "MSE Train: 0.0701327333470999\n"
     ]
    }
   ],
   "source": [
    "test_pred=lm.predict(test_X)\n",
    "train_pred=lm.predict(train_X)\n",
    "\n",
    "from sklearn import metrics\n",
    "\n",
    "print('MSE Test:',metrics.mean_squared_error(test_y,test_pred))\n",
    "print('MSE Train:',metrics.mean_squared_error(train_y,train_pred))"
   ]
  },
  {
   "cell_type": "code",
   "execution_count": 49,
   "metadata": {},
   "outputs": [
    {
     "name": "stdout",
     "output_type": "stream",
     "text": [
      "MAE: 0.18315592870524833\n",
      "MSE: 0.06400375519229033\n",
      "RMSE: 0.2529896345550353\n"
     ]
    }
   ],
   "source": [
    "print ('MAE:', metrics.mean_absolute_error(test_y, test_pred))\n",
    "print ('MSE:', metrics.mean_squared_error(test_y, test_pred))\n",
    "print ('RMSE:', np.sqrt(metrics.mean_squared_error(test_y, test_pred)))"
   ]
  },
  {
   "cell_type": "code",
   "execution_count": 50,
   "metadata": {},
   "outputs": [
    {
     "name": "stdout",
     "output_type": "stream",
     "text": [
      "MAPE of training data:  0.034  |  MAPE of testing data:  0.032\n"
     ]
    }
   ],
   "source": [
    "MAPE_train = '%.3f' % np.mean(np.abs(train_y-train_pred)/(train_y))\n",
    "MAPE_test = '%.3f' % np.mean(np.abs(test_y-test_pred)/(test_y))\n",
    "\n",
    "# print the values of MAPE for train and test\n",
    "print('MAPE of training data: ', MAPE_train,  ' | ', 'MAPE of testing data: ', MAPE_test)"
   ]
  },
  {
   "cell_type": "markdown",
   "metadata": {},
   "source": [
    "###Check Normality and Residuals\n",
    "\n",
    "***We will use Q-Q plot to examine this***"
   ]
  },
  {
   "cell_type": "code",
   "execution_count": 51,
   "metadata": {},
   "outputs": [
    {
     "data": {
      "text/plain": [
       "<matplotlib.axes._subplots.AxesSubplot at 0x150578e8f88>"
      ]
     },
     "execution_count": 51,
     "metadata": {},
     "output_type": "execute_result"
    },
    {
     "data": {
      "image/png": "[encoded data removed]",
      "text/plain": [
       "<Figure size 576x396 with 1 Axes>"
      ]
     },
     "metadata": {},
     "output_type": "display_data"
    }
   ],
   "source": [
    "residuals=train_y-train_pred\n",
    "\n",
    "import seaborn as sns\n",
    "\n",
    "sns.distplot(residuals)"
   ]
  },
  {
   "cell_type": "markdown",
   "metadata": {},
   "source": [
    "***From the above histogram and Q-Q plot, shows that the residuals are normally distributed, so our  assumption is not violated***"
   ]
  }
 ],
 "metadata": {
  "kernelspec": {
   "display_name": "Python 3",
   "language": "python",
   "name": "python3"
  },
  "language_info": {
   "codemirror_mode": {
    "name": "ipython",
    "version": 3
   },
   "file_extension": ".py",
   "mimetype": "text/x-python",
   "name": "python",
   "nbconvert_exporter": "python",
   "pygments_lexer": "ipython3",
   "version": "3.7.6"
  }
 },
 "nbformat": 4,
 "nbformat_minor": 2
}
